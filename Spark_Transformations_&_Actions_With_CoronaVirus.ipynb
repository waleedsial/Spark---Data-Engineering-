{
  "nbformat": 4,
  "nbformat_minor": 0,
  "metadata": {
    "colab": {
      "name": "Spark Transformations & Actions With CoronaVirus.ipynb",
      "provenance": [],
      "collapsed_sections": [],
      "authorship_tag": "ABX9TyMjqKX7EZ6JrT2XxTxeY6IS",
      "include_colab_link": true
    },
    "kernelspec": {
      "name": "python3",
      "display_name": "Python 3"
    }
  },
  "cells": [
    {
      "cell_type": "markdown",
      "metadata": {
        "id": "view-in-github",
        "colab_type": "text"
      },
      "source": [
        "<a href=\"https://colab.research.google.com/github/waleedsial/Spark---Data-Engineering-/blob/master/Spark_Transformations_%26_Actions_With_CoronaVirus.ipynb\" target=\"_parent\"><img src=\"https://colab.research.google.com/assets/colab-badge.svg\" alt=\"Open In Colab\"/></a>"
      ]
    },
    {
      "cell_type": "code",
      "metadata": {
        "id": "_Sqh7r5K4JX6",
        "colab_type": "code",
        "colab": {
          "base_uri": "https://localhost:8080/",
          "height": 51
        },
        "outputId": "165a13bd-f9de-44d6-e4fd-93401866bbe0"
      },
      "source": [
        "!ls /usr/lib/jvm"
      ],
      "execution_count": 1,
      "outputs": [
        {
          "output_type": "stream",
          "text": [
            "default-java\t\t   java-11-openjdk-amd64     java-8-openjdk-amd64\n",
            "java-1.11.0-openjdk-amd64  java-1.8.0-openjdk-amd64\n"
          ],
          "name": "stdout"
        }
      ]
    },
    {
      "cell_type": "code",
      "metadata": {
        "id": "PvetcI-_7EPr",
        "colab_type": "code",
        "colab": {}
      },
      "source": [
        "\n",
        "# Installing JVM\n",
        "!apt-get install openjdk-8-jdk-headless -qq > /dev/null\n",
        "\n",
        "# Installing spark from spark website. \n",
        "!wget -q https://downloads.apache.org/spark/spark-2.4.5/spark-2.4.5-bin-hadoop2.7.tgz\n",
        "\n",
        "# Unzipping \n",
        "!tar xf spark-2.4.5-bin-hadoop2.7.tgz\n",
        "\n",
        "# Let us allow to find the spark & set the path variable \n",
        "!pip install -q findspark\n"
      ],
      "execution_count": 0,
      "outputs": []
    },
    {
      "cell_type": "code",
      "metadata": {
        "id": "qOl4uyyU4aWj",
        "colab_type": "code",
        "colab": {}
      },
      "source": [
        "import os \n",
        "os.environ[\"JAVA_HOME\"] = \"/usr/lib/jvm/java-8-openjdk-amd64\"\n",
        "os.environ[\"SPARK_HOME\"] = \"/content/spark-2.4.5-bin-hadoop2.7\"\n",
        "import findspark\n",
        "# finding spark & setting system path \n",
        "findspark.init()\n",
        "from pyspark.sql import SparkSession\n",
        "# In order to work in spark we need spark context \n",
        "\n",
        "# We are setting local since we dont have distributed nodes\n",
        "spark = SparkSession.builder.master(\"local[*]\").getOrCreate()\n",
        "\n",
        "\n"
      ],
      "execution_count": 0,
      "outputs": []
    },
    {
      "cell_type": "code",
      "metadata": {
        "id": "RvpR8wdu4z2S",
        "colab_type": "code",
        "colab": {}
      },
      "source": [
        "import sys, tempfile, urllib\n",
        "from pyspark.sql.functions import * \n"
      ],
      "execution_count": 0,
      "outputs": []
    },
    {
      "cell_type": "code",
      "metadata": {
        "id": "kdxnCpUN87jx",
        "colab_type": "code",
        "colab": {}
      },
      "source": [
        "from IPython.core.interactiveshell import InteractiveShell\n",
        "InteractiveShell.ast_node_interactivity = \"all\""
      ],
      "execution_count": 0,
      "outputs": []
    },
    {
      "cell_type": "code",
      "metadata": {
        "id": "EfpNATlf45Y5",
        "colab_type": "code",
        "colab": {}
      },
      "source": [
        "# urllib.request.urlretrieve(url, filename=None, reporthook=None, data=None)\n",
        "BASE_DIR = '/tmp'\n",
        "CORONA_DATA_FILE = os.path.join(BASE_DIR, 'corona_data.csv')\n",
        "corona_data = urllib.request.urlretrieve('https://raw.githubusercontent.com/srivatsan88/YouTubeLI/master/dataset/coronavirus/corona_dataset_latest.csv',CORONA_DATA_FILE )\n"
      ],
      "execution_count": 0,
      "outputs": []
    },
    {
      "cell_type": "code",
      "metadata": {
        "id": "DYW_Fluh5qbO",
        "colab_type": "code",
        "colab": {}
      },
      "source": [
        "BASE_DIR = '/tmp'\n",
        "TWITTER_DATA_FILE = os.path.join(BASE_DIR, 'twitter_data.csv')\n",
        "tweets_data = urllib.request.urlretrieve('https://raw.githubusercontent.com/srivatsan88/YouTubeLI/master/dataset/coronavirus/tweets.csv',TWITTER_DATA_FILE )"
      ],
      "execution_count": 0,
      "outputs": []
    },
    {
      "cell_type": "code",
      "metadata": {
        "id": "bU6xBaFd6HYn",
        "colab_type": "code",
        "colab": {
          "base_uri": "https://localhost:8080/",
          "height": 119
        },
        "outputId": "4c712968-dde3-4224-b692-af806815b696"
      },
      "source": [
        "!ls /tmp"
      ],
      "execution_count": 11,
      "outputs": [
        {
          "output_type": "stream",
          "text": [
            "blockmgr-888b6dff-7d7f-46f9-8d42-98b23ce4fa0c\n",
            "corona_data.csv\n",
            "hsperfdata_root\n",
            "spark-6da23c70-6e8d-4370-af08-c316f4ae4966\n",
            "spark-f4ca39a6-9d54-4238-a167-7b7dc083925a\n",
            "twitter_data.csv\n"
          ],
          "name": "stdout"
        }
      ]
    },
    {
      "cell_type": "code",
      "metadata": {
        "id": "k6GYp-dr8gHq",
        "colab_type": "code",
        "colab": {}
      },
      "source": [
        "# Creating spark dataframe \n",
        "# if we have a file we can use read option \n",
        "# We are telling to read the file & infer schema based on the file \n",
        "# header \n",
        "corona_df = spark.read.option(\"inferSchema\", \"true\").csv(\"/tmp/corona_data.csv\", header = True)\n",
        "twitter_df = spark.read.option(\"inferSchema\", \"true\").csv(\"/tmp/twitter_data.csv\", header = True)"
      ],
      "execution_count": 0,
      "outputs": []
    },
    {
      "cell_type": "code",
      "metadata": {
        "id": "mpxHHqAn83GS",
        "colab_type": "code",
        "colab": {
          "base_uri": "https://localhost:8080/",
          "height": 34
        },
        "outputId": "e1d42598-bbe9-4b23-aec0-4b7326440652"
      },
      "source": [
        "type(corona_df)\n",
        "type(twitter_df)"
      ],
      "execution_count": 15,
      "outputs": [
        {
          "output_type": "execute_result",
          "data": {
            "text/plain": [
              "pyspark.sql.dataframe.DataFrame"
            ]
          },
          "metadata": {
            "tags": []
          },
          "execution_count": 15
        },
        {
          "output_type": "execute_result",
          "data": {
            "text/plain": [
              "pyspark.sql.dataframe.DataFrame"
            ]
          },
          "metadata": {
            "tags": []
          },
          "execution_count": 15
        }
      ]
    },
    {
      "cell_type": "code",
      "metadata": {
        "id": "7lN6MQHS9ReY",
        "colab_type": "code",
        "colab": {
          "base_uri": "https://localhost:8080/",
          "height": 34
        },
        "outputId": "10feb24b-d0a5-4c4e-ec90-18e84f08e380"
      },
      "source": [
        "corona_df.count()"
      ],
      "execution_count": 22,
      "outputs": [
        {
          "output_type": "execute_result",
          "data": {
            "text/plain": [
              "28143"
            ]
          },
          "metadata": {
            "tags": []
          },
          "execution_count": 22
        }
      ]
    },
    {
      "cell_type": "code",
      "metadata": {
        "id": "5BzLJXVL9Cgp",
        "colab_type": "code",
        "colab": {
          "base_uri": "https://localhost:8080/",
          "height": 459
        },
        "outputId": "2061a469-aab5-45d9-ba39-f5625318aef3"
      },
      "source": [
        "\n",
        "\n",
        "corona_df.show()\n",
        "# Teh data follows a time series pattern\n"
      ],
      "execution_count": 23,
      "outputs": [
        {
          "output_type": "stream",
          "text": [
            "+---+----------------+--------------------+--------+---------+-------------------+---------+-----+---------+--------------------+----+\n",
            "|_c0|           State|             Country|     Lat|     Long|               Date|Confirmed|Death|Recovered|       state_cleaned|City|\n",
            "+---+----------------+--------------------+--------+---------+-------------------+---------+-----+---------+--------------------+----+\n",
            "|  0|            null|            Thailand|    15.0|    101.0|2020-01-22 00:00:00|        2|    0|        0|             Bangkok|null|\n",
            "|  1|            null|               Japan|    36.0|    138.0|2020-01-22 00:00:00|        2|    0|        0|             Hiraide|null|\n",
            "|  2|            null|           Singapore|  1.2833| 103.8333|2020-01-22 00:00:00|        0|    0|        0|           Singapore|null|\n",
            "|  3|            null|               Nepal| 28.1667|    84.25|2020-01-22 00:00:00|        0|    0|        0|           Kathmandu|null|\n",
            "|  4|            null|            Malaysia|     2.5|    112.5|2020-01-22 00:00:00|        0|    0|        0|             Sarawak|null|\n",
            "|  5|British Columbia|              Canada| 49.2827|-123.1207|2020-01-22 00:00:00|        0|    0|        0|    British Columbia|null|\n",
            "|  6| New South Wales|           Australia|-33.8688| 151.2093|2020-01-22 00:00:00|        0|    0|        0|     New South Wales|null|\n",
            "|  7|        Victoria|           Australia|-37.8136| 144.9631|2020-01-22 00:00:00|        0|    0|        0|            Victoria|null|\n",
            "|  8|      Queensland|           Australia|-28.0167|    153.4|2020-01-22 00:00:00|        0|    0|        0|          Queensland|null|\n",
            "|  9|            null|            Cambodia|   11.55| 104.9167|2020-01-22 00:00:00|        0|    0|        0|          Phnom Penh|null|\n",
            "| 10|            null|           Sri Lanka|     7.0|     81.0|2020-01-22 00:00:00|        0|    0|        0|Sri Jayawardenapu...|null|\n",
            "| 11|            null|             Germany|    51.0|      9.0|2020-01-22 00:00:00|        0|    0|        0|              Berlin|null|\n",
            "| 12|            null|             Finland|    64.0|     26.0|2020-01-22 00:00:00|        0|    0|        0|            Helsinki|null|\n",
            "| 13|            null|United Arab Emirates|    24.0|     54.0|2020-01-22 00:00:00|        0|    0|        0|           Abu Dhabi|null|\n",
            "| 14|            null|         Philippines|    13.0|    122.0|2020-01-22 00:00:00|        0|    0|        0|              Manila|null|\n",
            "| 15|            null|               India|    21.0|     78.0|2020-01-22 00:00:00|        0|    0|        0|           New Delhi|null|\n",
            "| 16|            null|               Italy|    43.0|     12.0|2020-01-22 00:00:00|        0|    0|        0|                Rome|null|\n",
            "| 17|            null|              Sweden|    63.0|     16.0|2020-01-22 00:00:00|        0|    0|        0|           Stockholm|null|\n",
            "| 18|            null|               Spain|    40.0|     -4.0|2020-01-22 00:00:00|        0|    0|        0|              Toledo|null|\n",
            "| 19| South Australia|           Australia|-34.9285| 138.6007|2020-01-22 00:00:00|        0|    0|        0|     South Australia|null|\n",
            "+---+----------------+--------------------+--------+---------+-------------------+---------+-----+---------+--------------------+----+\n",
            "only showing top 20 rows\n",
            "\n"
          ],
          "name": "stdout"
        }
      ]
    },
    {
      "cell_type": "code",
      "metadata": {
        "id": "HroIcGJ-9Ktv",
        "colab_type": "code",
        "colab": {
          "base_uri": "https://localhost:8080/",
          "height": 459
        },
        "outputId": "15cbe055-83e5-4c01-b3f5-2bda9501018a"
      },
      "source": [
        "\n",
        "twitter_df.show()"
      ],
      "execution_count": 24,
      "outputs": [
        {
          "output_type": "stream",
          "text": [
            "+---+----+--------------------+--------------------+--------------------+--------------------+--------------------+--------------------+\n",
            "|_c0| geo|                text|                user|            location|            entities|           sentiment|             country|\n",
            "+---+----+--------------------+--------------------+--------------------+--------------------+--------------------+--------------------+\n",
            "|  0|null|What is God sayin...|          petodinice|               Lagos|[('about #', 'CAR...|{'neg': 0.0, 'neu...|             Nigeria|\n",
            "|  1|null|\"BREAKING: \"\"this...| but i took the t...|                -… \"|     JerryfranksonJF|      Abuja, Nigeria|\"[(\"\"Arsenal's Mi...|\n",
            "|  2|null| #Coronavirus tes...|              cek422|   Pennsylvania, USA|                  []|{'neg': 0.173, 'n...|                 USA|\n",
            "|  3|null| Get ready for ma...|        InfectiousDz|                 NYC|[('World', 'ORG')...|{'neg': 0.085, 'n...|                 USA|\n",
            "|  4|null| The #coronavirus...|          vic_gibson|                null|                ['']|{'neg': 0.0, 'neu...|                null|\n",
            "|  5|null| COVID-19 update ...|      StewartNgilana|Durban | Port Eli...|[('Italy', 'GPE')...|{'neg': 0.178, 'n...|                 USA|\n",
            "|  6|null| It’s painful to ...|           BWheatnyc|             Florida|                  []|{'neg': 0.098, 'n...|                 USA|\n",
            "|  7|null| 📽️Friends, I wi...|             LorseaR|New South Wales, ...|[('Twitter', 'GPE...|{'neg': 0.123, 'n...|           Australia|\n",
            "|  8|null| Questions about ...|         straightj23|        Columbus, OH|[('NAfME', 'CARDI...|{'neg': 0.0, 'neu...|                 USA|\n",
            "|  9|null|How they’re deali...|       _______coolio| South East, England|['', ('Portsmouth...|{'neg': 0.126, 'n...|                  UK|\n",
            "| 10|null| BREAKING: Democr...|      champagneaylin|                null|[('Democrats', 'N...|{'neg': 0.221, 'n...|                null|\n",
            "| 11|null| “If we close dow...|       YorkLawLondon|                  UK|                  []|{'neg': 0.0, 'neu...|      United Kingdom|\n",
            "| 12|null| I pity the poor ...|      BeesonMargaret|                null|                ['']|{'neg': 0.227, 'n...|                null|\n",
            "| 13|null| We’re the heck w...|      harrytiffanyiv| Fort Washington, PA|[('the last 6 wee...|{'neg': 0.0, 'neu...|                 USA|\n",
            "| 14|null| I don't think sh...|         grammyheath|                null|[('Joy', 'PERSON'...|{'neg': 0.0, 'neu...|                null|\n",
            "| 15|null| Well written, so...|      barbara_ellena|Christchurch City...|                  []|{'neg': 0.0, 'neu...|         New Zealand|\n",
            "| 16|null| 1/2 CDC Director...|               fatal|                 USA|[('1/2', 'CARDINA...|{'neg': 0.139, 'n...|       United States|\n",
            "| 17|null| In all seriousne...|          pwjkmiller|                null|                ['']|{'neg': 0.218, 'n...|                null|\n",
            "| 18|null| Wash your hands....|        Mrrandy123RP|          Texas, USA|            ['', '']|{'neg': 0.0, 'neu...|                 USA|\n",
            "| 19|null| #CoronaVirusCana...|           aliensky0|           Worldwide|['', ('CoronaViru...|{'neg': 0.0, 'neu...|                 USA|\n",
            "+---+----+--------------------+--------------------+--------------------+--------------------+--------------------+--------------------+\n",
            "only showing top 20 rows\n",
            "\n"
          ],
          "name": "stdout"
        }
      ]
    },
    {
      "cell_type": "markdown",
      "metadata": {
        "id": "B56XvOl4As6f",
        "colab_type": "text"
      },
      "source": [
        "Transformations - Raw Data to Transformations \n",
        "Aggregations \n",
        "Transformation creates new DF by DAG. \n",
        "The plan only executes once action is called. Spark optimizes this plan. "
      ]
    },
    {
      "cell_type": "code",
      "metadata": {
        "id": "Trix-8rJAEvI",
        "colab_type": "code",
        "colab": {
          "base_uri": "https://localhost:8080/",
          "height": 34
        },
        "outputId": "06e491db-76d7-4ea5-b5d6-9cc90afa2a23"
      },
      "source": [
        "twitter_df.filter(\"country = 'USA'\")\n",
        "# This tells us that a dataframe will be created, it is not created yet. "
      ],
      "execution_count": 26,
      "outputs": [
        {
          "output_type": "execute_result",
          "data": {
            "text/plain": [
              "DataFrame[_c0: int, geo: string, text: string, user: string, location: string, entities: string, sentiment: string, country: string]"
            ]
          },
          "metadata": {
            "tags": []
          },
          "execution_count": 26
        }
      ]
    },
    {
      "cell_type": "code",
      "metadata": {
        "id": "a30iXb23BMJF",
        "colab_type": "code",
        "colab": {
          "base_uri": "https://localhost:8080/",
          "height": 459
        },
        "outputId": "a3494b4c-31ab-45cf-eff8-b60922d9ce6f"
      },
      "source": [
        "# Here the transformations is completed because we haev called action. \n",
        "twitter_df.filter(\"country = 'USA'\").show()"
      ],
      "execution_count": 27,
      "outputs": [
        {
          "output_type": "stream",
          "text": [
            "+---+----+--------------------+---------------+--------------------+--------------------+--------------------+-------+\n",
            "|_c0| geo|                text|           user|            location|            entities|           sentiment|country|\n",
            "+---+----+--------------------+---------------+--------------------+--------------------+--------------------+-------+\n",
            "|  2|null| #Coronavirus tes...|         cek422|   Pennsylvania, USA|                  []|{'neg': 0.173, 'n...|    USA|\n",
            "|  3|null| Get ready for ma...|   InfectiousDz|                 NYC|[('World', 'ORG')...|{'neg': 0.085, 'n...|    USA|\n",
            "|  5|null| COVID-19 update ...| StewartNgilana|Durban | Port Eli...|[('Italy', 'GPE')...|{'neg': 0.178, 'n...|    USA|\n",
            "|  6|null| It’s painful to ...|      BWheatnyc|             Florida|                  []|{'neg': 0.098, 'n...|    USA|\n",
            "|  8|null| Questions about ...|    straightj23|        Columbus, OH|[('NAfME', 'CARDI...|{'neg': 0.0, 'neu...|    USA|\n",
            "| 13|null| We’re the heck w...| harrytiffanyiv| Fort Washington, PA|[('the last 6 wee...|{'neg': 0.0, 'neu...|    USA|\n",
            "| 18|null| Wash your hands....|   Mrrandy123RP|          Texas, USA|            ['', '']|{'neg': 0.0, 'neu...|    USA|\n",
            "| 19|null| #CoronaVirusCana...|      aliensky0|           Worldwide|['', ('CoronaViru...|{'neg': 0.0, 'neu...|    USA|\n",
            "| 24|null| Dr. Dena Grayson...|billymocolorad2|         Denver area|[('Dena Grayson',...|{'neg': 0.0, 'neu...|    USA|\n",
            "| 29|null| #BREAKING Univer...|  _pulido_nenaa|         Fontana, CA|['', ('BREAKING U...|{'neg': 0.0, 'neu...|    USA|\n",
            "| 31|null| I ordered Alex J...|       rcgillan|       New York, USA|[('Alex Jones', '...|{'neg': 0.109, 'n...|    USA|\n",
            "| 32|null| #CoronavirusExpe...|        AD1968F|California / Florida|['', ('Coronaviru...|{'neg': 0.0, 'neu...|    USA|\n",
            "| 34|null| There is no obje...|       SFAuGrrl|   San Francisco, CA|['', ('FamiliesFi...|{'neg': 0.224, 'n...|    USA|\n",
            "| 36|null| Before #coronavi...|   Frankapistan|       Nashville, TN|[('China', 'GPE')...|{'neg': 0.144, 'n...|    USA|\n",
            "| 40|null|  When it's actua...|      Happyjam5|     Los Angeles, Ca|[('GOP', 'ORG'), ...|{'neg': 0.215, 'n...|    USA|\n",
            "| 41|null|#Coronavirus in #...|   GregoryGLake|              Global|['', ('5', 'CARDI...|{'neg': 0.318, 'n...|    USA|\n",
            "| 49|null| This week we are...|  JamesWithers3|  New York, New York|[('This week', 'D...|{'neg': 0.0, 'neu...|    USA|\n",
            "| 50|null| Trump is now doi...|      NewNewsey|          everywhere|[('Trump', 'ORG')...|{'neg': 0.0, 'neu...|    USA|\n",
            "| 55|null| The last patient...|   Khattarperla|          Highgarden|  [('Wuhan', 'GPE')]|{'neg': 0.0, 'neu...|    USA|\n",
            "| 56|null|...Hope y’all sta...|  Brandon4Brody|          Pueblo, CO|[('CDC', 'ORG'), ...|{'neg': 0.0, 'neu...|    USA|\n",
            "+---+----+--------------------+---------------+--------------------+--------------------+--------------------+-------+\n",
            "only showing top 20 rows\n",
            "\n"
          ],
          "name": "stdout"
        }
      ]
    },
    {
      "cell_type": "code",
      "metadata": {
        "id": "Hr4o9T6ZBTc-",
        "colab_type": "code",
        "colab": {
          "base_uri": "https://localhost:8080/",
          "height": 459
        },
        "outputId": "a916706f-fc97-4b15-efff-92c84a6236e9"
      },
      "source": [
        "# We can apply different conditions inside the filter \n",
        "\n",
        "twitter_df.filter(\"country = 'USA' and location like '%New%'\").show()\n",
        "# here we see the location is now further filtered. "
      ],
      "execution_count": 28,
      "outputs": [
        {
          "output_type": "stream",
          "text": [
            "+---+----+--------------------+---------------+--------------------+--------------------+--------------------+-------+\n",
            "|_c0| geo|                text|           user|            location|            entities|           sentiment|country|\n",
            "+---+----+--------------------+---------------+--------------------+--------------------+--------------------+-------+\n",
            "| 31|null| I ordered Alex J...|       rcgillan|       New York, USA|[('Alex Jones', '...|{'neg': 0.109, 'n...|    USA|\n",
            "| 49|null| This week we are...|  JamesWithers3|  New York, New York|[('This week', 'D...|{'neg': 0.0, 'neu...|    USA|\n",
            "| 62|null|Fear will kill #C...| RobertPPurcell|norther New Jerse...|                ['']|{'neg': 0.798, 'n...|    USA|\n",
            "|228|null|This is a very co...|baskingntheGlow|       New York City|[('hourly', 'TIME')]|{'neg': 0.12, 'ne...|    USA|\n",
            "|238|null|I’m reposting thi...|   Veronicaromm|     New Jersey, USA|[('English', 'LAN...|{'neg': 0.0, 'neu...|    USA|\n",
            "|261|null|Too early ...?  #...|      HJeppesen|        New York, NY|                ['']|{'neg': 0.0, 'neu...|    USA|\n",
            "|275|null|  The Republican ...|  GenetBataiile|  New Hampshire, USA|[('Republican', '...|{'neg': 0.0, 'neu...|    USA|\n",
            "|369|null| I still look to ...|   SusanSeaside|         New England|[('SouthKorea', '...|{'neg': 0.0, 'neu...|    USA|\n",
            "|438|null|Can we call the #...|       nilchaks|     New Jersey, USA|                ['']|{'neg': 0.194, 'n...|    USA|\n",
            "|458|null| New deadly #coro...| ssummersabrina|     New Jersey, USA|                ['']|{'neg': 0.236, 'n...|    USA|\n",
            "|471|null|What the Caged Bi...|    AaronNetsky|        New York, NY|                  []|{'neg': 0.0, 'neu...|    USA|\n",
            "|553|null|Me: Tired of hear...|     AmandaB_B8|  New Hampshire, USA|['', ('tonight', ...|{'neg': 0.252, 'n...|    USA|\n",
            "|611|null| Apparently the #...|  BuffaloInABox|   Buffalo, New York|['', ('CoronaViru...|{'neg': 0.171, 'n...|    USA|\n",
            "|612|null| New deadly #coro...|       klazimi1|       New York, USA|                ['']|{'neg': 0.236, 'n...|    USA|\n",
            "|622|null|Can someone pleas...|         pitaru|            New York|                ['']|{'neg': 0.168, 'n...|    USA|\n",
            "|624|null| Trump is now doi...| swirlysunburst|Northwest, New Je...|[('Trump', 'ORG')...|{'neg': 0.0, 'neu...|    USA|\n",
            "|664|null|Marriage in 2020 ...|           sciz|        New York, NY|[('2020', 'DATE')...|{'neg': 0.111, 'n...|    USA|\n",
            "|679|null|ALL MY MONEY ON E...|  misterauyeung|        New York, NY|[('ETF', 'ORG'), '']|{'neg': 0.148, 'n...|    USA|\n",
            "|724|null|#UniversalStudios...| cosmicbooknews|       New York, USA|['', ('UniversalS...|{'neg': 0.0, 'neu...|    USA|\n",
            "|850|null| There is no obje...|         rm1268|       New York, USA|['', ('FamiliesFi...|{'neg': 0.224, 'n...|    USA|\n",
            "+---+----+--------------------+---------------+--------------------+--------------------+--------------------+-------+\n",
            "only showing top 20 rows\n",
            "\n"
          ],
          "name": "stdout"
        }
      ]
    },
    {
      "cell_type": "markdown",
      "metadata": {
        "id": "PVlekFA8B1jH",
        "colab_type": "text"
      },
      "source": [
        "# How the execution plan is created. \n",
        "we can see that Spark is building up a plan for how it will execute this across the cluster by looking\n",
        "at the explain plan.\n",
        "We can call explain on any DataFrame object to see the DataFrame’s\n",
        "lineage (or how Spark will execute this query)\n"
      ]
    },
    {
      "cell_type": "code",
      "metadata": {
        "id": "NVAgFqdsB0vn",
        "colab_type": "code",
        "colab": {
          "base_uri": "https://localhost:8080/",
          "height": 105
        },
        "outputId": "d4c67034-8a33-41a5-ad4e-1e9f59705ca2"
      },
      "source": [
        "\n",
        "\n",
        "tw_filter_df = twitter_df.filter(\"country = 'USA'\")\n",
        "tw_filter_df.explain()\n",
        "\n",
        "# This comes from bottom to top\n",
        "# read the file \n",
        "# apply the filter \n",
        "# it adds the filter condition as required. "
      ],
      "execution_count": 29,
      "outputs": [
        {
          "output_type": "stream",
          "text": [
            "== Physical Plan ==\n",
            "*(1) Project [_c0#42, geo#43, text#44, user#45, location#46, entities#47, sentiment#48, country#49]\n",
            "+- *(1) Filter (isnotnull(country#49) && (country#49 = USA))\n",
            "   +- *(1) FileScan csv [_c0#42,geo#43,text#44,user#45,location#46,entities#47,sentiment#48,country#49] Batched: false, Format: CSV, Location: InMemoryFileIndex[file:/tmp/twitter_data.csv], PartitionFilters: [], PushedFilters: [IsNotNull(country), EqualTo(country,USA)], ReadSchema: struct<_c0:int,geo:string,text:string,user:string,location:string,entities:string,sentiment:strin...\n"
          ],
          "name": "stdout"
        }
      ]
    },
    {
      "cell_type": "code",
      "metadata": {
        "id": "rI2OqBqeCzV6",
        "colab_type": "code",
        "colab": {
          "base_uri": "https://localhost:8080/",
          "height": 105
        },
        "outputId": "e3e5cb55-16a1-405a-a00c-21932e9c5948"
      },
      "source": [
        "tw_filter_df = twitter_df.filter(col(\"location\").startswith(\"N\"))\n",
        "tw_filter_df.explain()\n",
        "# we see in the 2nd line that the plan puts the conditions in the filter."
      ],
      "execution_count": 30,
      "outputs": [
        {
          "output_type": "stream",
          "text": [
            "== Physical Plan ==\n",
            "*(1) Project [_c0#42, geo#43, text#44, user#45, location#46, entities#47, sentiment#48, country#49]\n",
            "+- *(1) Filter (isnotnull(location#46) && StartsWith(location#46, N))\n",
            "   +- *(1) FileScan csv [_c0#42,geo#43,text#44,user#45,location#46,entities#47,sentiment#48,country#49] Batched: false, Format: CSV, Location: InMemoryFileIndex[file:/tmp/twitter_data.csv], PartitionFilters: [], PushedFilters: [IsNotNull(location), StringStartsWith(location,N)], ReadSchema: struct<_c0:int,geo:string,text:string,user:string,location:string,entities:string,sentiment:strin...\n"
          ],
          "name": "stdout"
        }
      ]
    },
    {
      "cell_type": "code",
      "metadata": {
        "id": "4uQOItQNDIVd",
        "colab_type": "code",
        "colab": {
          "base_uri": "https://localhost:8080/",
          "height": 54
        },
        "outputId": "90515b97-af9d-4205-a6bc-b8dfe3831add"
      },
      "source": [
        "tw_filter_df.first()"
      ],
      "execution_count": 32,
      "outputs": [
        {
          "output_type": "execute_result",
          "data": {
            "text/plain": [
              "Row(_c0=3, geo=None, text=' Get ready for mass event crowd cancellations across the World starting this weekend: cricket in #Australia in empty st…', user='InfectiousDz', location='NYC', entities=\"[('World', 'ORG'), ('this weekend', 'DATE'), '']\", sentiment=\"{'neg': 0.085, 'neu': 0.798, 'pos': 0.117, 'compound': 0.1779}\", country='USA')"
            ]
          },
          "metadata": {
            "tags": []
          },
          "execution_count": 32
        }
      ]
    },
    {
      "cell_type": "code",
      "metadata": {
        "id": "qqn_VWd6DZCO",
        "colab_type": "code",
        "colab": {
          "base_uri": "https://localhost:8080/",
          "height": 54
        },
        "outputId": "06838b6a-59ee-447b-ed29-0111a47fc66c"
      },
      "source": [
        "tw_filter_df.take(1)\n"
      ],
      "execution_count": 33,
      "outputs": [
        {
          "output_type": "execute_result",
          "data": {
            "text/plain": [
              "[Row(_c0=3, geo=None, text=' Get ready for mass event crowd cancellations across the World starting this weekend: cricket in #Australia in empty st…', user='InfectiousDz', location='NYC', entities=\"[('World', 'ORG'), ('this weekend', 'DATE'), '']\", sentiment=\"{'neg': 0.085, 'neu': 0.798, 'pos': 0.117, 'compound': 0.1779}\", country='USA')]"
            ]
          },
          "metadata": {
            "tags": []
          },
          "execution_count": 33
        }
      ]
    },
    {
      "cell_type": "code",
      "metadata": {
        "id": "rfyrgIfGDcpY",
        "colab_type": "code",
        "colab": {
          "base_uri": "https://localhost:8080/",
          "height": 136
        },
        "outputId": "de61564c-0f3b-48b4-c540-fabb07fa7123"
      },
      "source": [
        "tw_filter_df.show(1)\n",
        "# Show is very good boy "
      ],
      "execution_count": 34,
      "outputs": [
        {
          "output_type": "stream",
          "text": [
            "+---+----+--------------------+------------+--------+--------------------+--------------------+-------+\n",
            "|_c0| geo|                text|        user|location|            entities|           sentiment|country|\n",
            "+---+----+--------------------+------------+--------+--------------------+--------------------+-------+\n",
            "|  3|null| Get ready for ma...|InfectiousDz|     NYC|[('World', 'ORG')...|{'neg': 0.085, 'n...|    USA|\n",
            "+---+----+--------------------+------------+--------+--------------------+--------------------+-------+\n",
            "only showing top 1 row\n",
            "\n"
          ],
          "name": "stdout"
        }
      ]
    },
    {
      "cell_type": "code",
      "metadata": {
        "id": "VSEuVCgpDg5h",
        "colab_type": "code",
        "colab": {}
      },
      "source": [
        "# take, action, first are action variables. "
      ],
      "execution_count": 0,
      "outputs": []
    },
    {
      "cell_type": "markdown",
      "metadata": {
        "id": "y5S3jmcrEQqE",
        "colab_type": "text"
      },
      "source": [
        "What are transformations ? \n",
        "\n",
        "To “change” a DataFrame, you need to instruct Spark how you would like to\n",
        "modify it to do what you want. These instructions are called transformations.Spark will not act on transformations until we call an action. Transformations are the core of how you express your business logic using Spark."
      ]
    },
    {
      "cell_type": "markdown",
      "metadata": {
        "id": "JEXoi13yDln_",
        "colab_type": "text"
      },
      "source": [
        "#  Narrow & Wide Transformations \n",
        "\n",
        "Spark Book Page 25 \n",
        "\n",
        "To allow every executor to perform work in parallel, Spark breaks up the data into chunks called partitions.\n",
        "\n",
        "Transformations are simply ways of specifying different series of data\n",
        "manipulation.\n",
        "\n",
        "## Narrow \n",
        "Transformations consisting of narrow dependencies (we’ll call them narrow transformations) are those for which each input partition will contribute to only one output partition.With narrow transformations, Spark will\n",
        "automatically perform an operation called pipelining, meaning that if we specify multiple filters on DataFrames, they’ll all be performed in-memory\n",
        "\n",
        "\n",
        "*   All elements thare required for computation are in a single partition, for example map filter, lets say if we are applying a map and filter on each partition & creates one partition for each input. \n",
        "*   Also in case when we are mapping input from multiple partitions to one partition even than it is narrow partition. \n",
        "\n",
        "\n",
        "\n",
        "\n",
        "## Wide \n",
        "\n",
        "A wide dependency (or wide transformation) style transformation will have input partitions\n",
        "contributing to many output partitions. You will often hear this referred to as a shuffle whereby\n",
        "Spark will exchange partitions across the cluster. In case of wide transformations, spark dopes not apply all the filters in a pipeline fashion. In this case, spark writes results to the disk. \n",
        "\n",
        "\n",
        "*   For example in case of group by we need to create multiple child rdds, for example lets say there were 100 records in one partition belonging to 4,5 groups when we grouped the records on these gropups we will create 4,5 new rdds one for each group where the results from other child rdds will come as well. I am just saying this theorectically this would happen. \n",
        "*   List item\n",
        "\n",
        "\n",
        "\n",
        "\n",
        "\n",
        "\n"
      ]
    },
    {
      "cell_type": "markdown",
      "metadata": {
        "id": "s212pHS8HYYp",
        "colab_type": "text"
      },
      "source": [
        "Lets see some examples of RDD functions for understanding \n",
        "sometimes going to RDD level gives us more flexibility"
      ]
    },
    {
      "cell_type": "code",
      "metadata": {
        "id": "1y-MIITIHpVi",
        "colab_type": "code",
        "colab": {
          "base_uri": "https://localhost:8080/",
          "height": 51
        },
        "outputId": "1e782542-4693-4982-a490-eeffd3063d0c"
      },
      "source": [
        "x = spark.sparkContext.parallelize([1,4,8])\n",
        "# paralleize will create a parallel RDD \n",
        "\n",
        "# \n",
        "y = x.map(lambda x: (x, x*x))\n",
        "print(x.collect())\n",
        "print(y.collect())\n",
        "\n",
        "# map is a 1-1 transformations \n",
        "# each element of a collection transformed into an element of resulting collection "
      ],
      "execution_count": 38,
      "outputs": [
        {
          "output_type": "stream",
          "text": [
            "[1, 4, 8]\n",
            "[(1, 1), (4, 16), (8, 64)]\n"
          ],
          "name": "stdout"
        }
      ]
    },
    {
      "cell_type": "code",
      "metadata": {
        "id": "BPWCjuItJbqj",
        "colab_type": "code",
        "colab": {
          "base_uri": "https://localhost:8080/",
          "height": 51
        },
        "outputId": "33f4730f-5ef7-4c7f-8623-90e1f3f00fc7"
      },
      "source": [
        "# flatmap is not creating a tuple for each \n",
        "x = spark.sparkContext.parallelize([1,4,8])\n",
        "y = x.flatMap(lambda x: (x, x*x))\n",
        "print(x.collect())\n",
        "print(y.collect())\n",
        "\n",
        "# Flaty "
      ],
      "execution_count": 37,
      "outputs": [
        {
          "output_type": "stream",
          "text": [
            "[1, 4, 8]\n",
            "[(1, 1), (4, 16), (8, 64)]\n"
          ],
          "name": "stdout"
        }
      ]
    },
    {
      "cell_type": "code",
      "metadata": {
        "id": "ABcvS2CvL9aE",
        "colab_type": "code",
        "colab": {
          "base_uri": "https://localhost:8080/",
          "height": 34
        },
        "outputId": "adb6f793-1d9f-4bf0-a36e-ed6d7ffe096d"
      },
      "source": [
        "x\n",
        "# here x is a RDD "
      ],
      "execution_count": 39,
      "outputs": [
        {
          "output_type": "execute_result",
          "data": {
            "text/plain": [
              "ParallelCollectionRDD[114] at parallelize at PythonRDD.scala:195"
            ]
          },
          "metadata": {
            "tags": []
          },
          "execution_count": 39
        }
      ]
    },
    {
      "cell_type": "code",
      "metadata": {
        "id": "P1uMQSFCMA1K",
        "colab_type": "code",
        "colab": {
          "base_uri": "https://localhost:8080/",
          "height": 459
        },
        "outputId": "b0aca83e-bb05-4862-d3e8-ca72c86e8d7a"
      },
      "source": [
        "# Here we are just selecting one column \n",
        "# we can create subset of columns as well. \n",
        "twitter_df.select(\"text\").show()"
      ],
      "execution_count": 40,
      "outputs": [
        {
          "output_type": "stream",
          "text": [
            "+--------------------+\n",
            "|                text|\n",
            "+--------------------+\n",
            "|What is God sayin...|\n",
            "|\"BREAKING: \"\"this...|\n",
            "| #Coronavirus tes...|\n",
            "| Get ready for ma...|\n",
            "| The #coronavirus...|\n",
            "| COVID-19 update ...|\n",
            "| It’s painful to ...|\n",
            "| 📽️Friends, I wi...|\n",
            "| Questions about ...|\n",
            "|How they’re deali...|\n",
            "| BREAKING: Democr...|\n",
            "| “If we close dow...|\n",
            "| I pity the poor ...|\n",
            "| We’re the heck w...|\n",
            "| I don't think sh...|\n",
            "| Well written, so...|\n",
            "| 1/2 CDC Director...|\n",
            "| In all seriousne...|\n",
            "| Wash your hands....|\n",
            "| #CoronaVirusCana...|\n",
            "+--------------------+\n",
            "only showing top 20 rows\n",
            "\n"
          ],
          "name": "stdout"
        }
      ]
    },
    {
      "cell_type": "code",
      "metadata": {
        "id": "KYyhvcWQMJbh",
        "colab_type": "code",
        "colab": {
          "base_uri": "https://localhost:8080/",
          "height": 51
        },
        "outputId": "5486959a-5307-466b-eeb2-dbf8bb3ae880"
      },
      "source": [
        "# Understanding RDD , map flat map \n",
        "\n",
        "# converting the df in to an RDD in case if we need to do it \n",
        "# creating a map \n",
        "# splitting the line based on space \n",
        "# This is basically tokenizing \n",
        "twitter_df.rdd.map(lambda line: line.text.split(\" \")).take(2)\n",
        "\n",
        "# tokenizng each row of the column, mapping it to an array of tokens. "
      ],
      "execution_count": 41,
      "outputs": [
        {
          "output_type": "execute_result",
          "data": {
            "text/plain": [
              "[['What', 'is', 'God', 'saying', 'to', 'us', 'about', '#coronavirus', '?'],\n",
              " ['\"BREAKING:', '\"\"this', 'is', 'disappointing']]"
            ]
          },
          "metadata": {
            "tags": []
          },
          "execution_count": 41
        }
      ]
    },
    {
      "cell_type": "code",
      "metadata": {
        "id": "sUgihqhLMwLK",
        "colab_type": "code",
        "colab": {
          "base_uri": "https://localhost:8080/",
          "height": 187
        },
        "outputId": "7eff55bb-fd80-4db4-aeff-736d5e7a9934"
      },
      "source": [
        "# flat map on the other hand will not create this mapping of 1 to 1 \n",
        "# it will flatten into one record, array \n",
        "twitter_df.rdd.flatMap(lambda line: line.text.split(\" \")).take(10)\n",
        "# here the take will work on the tokens , it is one to many, taking all records and flattening it out "
      ],
      "execution_count": 44,
      "outputs": [
        {
          "output_type": "execute_result",
          "data": {
            "text/plain": [
              "['What',\n",
              " 'is',\n",
              " 'God',\n",
              " 'saying',\n",
              " 'to',\n",
              " 'us',\n",
              " 'about',\n",
              " '#coronavirus',\n",
              " '?',\n",
              " '\"BREAKING:']"
            ]
          },
          "metadata": {
            "tags": []
          },
          "execution_count": 44
        }
      ]
    },
    {
      "cell_type": "code",
      "metadata": {
        "id": "xkA7M0AnNlJ-",
        "colab_type": "code",
        "colab": {
          "base_uri": "https://localhost:8080/",
          "height": 459
        },
        "outputId": "2b1c43dd-628c-428a-c581-68146dc92a97"
      },
      "source": [
        "corona_df.show()"
      ],
      "execution_count": 46,
      "outputs": [
        {
          "output_type": "stream",
          "text": [
            "+---+----------------+--------------------+--------+---------+-------------------+---------+-----+---------+--------------------+----+\n",
            "|_c0|           State|             Country|     Lat|     Long|               Date|Confirmed|Death|Recovered|       state_cleaned|City|\n",
            "+---+----------------+--------------------+--------+---------+-------------------+---------+-----+---------+--------------------+----+\n",
            "|  0|            null|            Thailand|    15.0|    101.0|2020-01-22 00:00:00|        2|    0|        0|             Bangkok|null|\n",
            "|  1|            null|               Japan|    36.0|    138.0|2020-01-22 00:00:00|        2|    0|        0|             Hiraide|null|\n",
            "|  2|            null|           Singapore|  1.2833| 103.8333|2020-01-22 00:00:00|        0|    0|        0|           Singapore|null|\n",
            "|  3|            null|               Nepal| 28.1667|    84.25|2020-01-22 00:00:00|        0|    0|        0|           Kathmandu|null|\n",
            "|  4|            null|            Malaysia|     2.5|    112.5|2020-01-22 00:00:00|        0|    0|        0|             Sarawak|null|\n",
            "|  5|British Columbia|              Canada| 49.2827|-123.1207|2020-01-22 00:00:00|        0|    0|        0|    British Columbia|null|\n",
            "|  6| New South Wales|           Australia|-33.8688| 151.2093|2020-01-22 00:00:00|        0|    0|        0|     New South Wales|null|\n",
            "|  7|        Victoria|           Australia|-37.8136| 144.9631|2020-01-22 00:00:00|        0|    0|        0|            Victoria|null|\n",
            "|  8|      Queensland|           Australia|-28.0167|    153.4|2020-01-22 00:00:00|        0|    0|        0|          Queensland|null|\n",
            "|  9|            null|            Cambodia|   11.55| 104.9167|2020-01-22 00:00:00|        0|    0|        0|          Phnom Penh|null|\n",
            "| 10|            null|           Sri Lanka|     7.0|     81.0|2020-01-22 00:00:00|        0|    0|        0|Sri Jayawardenapu...|null|\n",
            "| 11|            null|             Germany|    51.0|      9.0|2020-01-22 00:00:00|        0|    0|        0|              Berlin|null|\n",
            "| 12|            null|             Finland|    64.0|     26.0|2020-01-22 00:00:00|        0|    0|        0|            Helsinki|null|\n",
            "| 13|            null|United Arab Emirates|    24.0|     54.0|2020-01-22 00:00:00|        0|    0|        0|           Abu Dhabi|null|\n",
            "| 14|            null|         Philippines|    13.0|    122.0|2020-01-22 00:00:00|        0|    0|        0|              Manila|null|\n",
            "| 15|            null|               India|    21.0|     78.0|2020-01-22 00:00:00|        0|    0|        0|           New Delhi|null|\n",
            "| 16|            null|               Italy|    43.0|     12.0|2020-01-22 00:00:00|        0|    0|        0|                Rome|null|\n",
            "| 17|            null|              Sweden|    63.0|     16.0|2020-01-22 00:00:00|        0|    0|        0|           Stockholm|null|\n",
            "| 18|            null|               Spain|    40.0|     -4.0|2020-01-22 00:00:00|        0|    0|        0|              Toledo|null|\n",
            "| 19| South Australia|           Australia|-34.9285| 138.6007|2020-01-22 00:00:00|        0|    0|        0|     South Australia|null|\n",
            "+---+----------------+--------------------+--------+---------+-------------------+---------+-----+---------+--------------------+----+\n",
            "only showing top 20 rows\n",
            "\n"
          ],
          "name": "stdout"
        }
      ]
    },
    {
      "cell_type": "code",
      "metadata": {
        "id": "CFukOknTNJai",
        "colab_type": "code",
        "colab": {
          "base_uri": "https://localhost:8080/",
          "height": 459
        },
        "outputId": "da52d9b5-0a45-4c6c-eaba-a1bb9c456c2a"
      },
      "source": [
        "corona_df.filter(\"Country = 'US'\").sort(col(\"Date\"), ascending = False).show()"
      ],
      "execution_count": 52,
      "outputs": [
        {
          "output_type": "stream",
          "text": [
            "+-----+----------------+-------+------------------+---------+-------------------+---------+-----+---------+----------------+----------------+\n",
            "|  _c0|           State|Country|               Lat|     Long|               Date|Confirmed|Death|Recovered|   state_cleaned|            City|\n",
            "+-----+----------------+-------+------------------+---------+-------------------+---------+-----+---------+----------------+----------------+\n",
            "|27764|      Washington|     US|           47.4009|-121.4905|2020-03-20 00:00:00|     1524|   83|        0|      Washington|      Washington|\n",
            "|27784|         Arizona|     US|           33.7298|-111.4312|2020-03-20 00:00:00|       78|    0|        0|         Arizona|         Arizona|\n",
            "|27765|        New York|     US|           42.1657| -74.9481|2020-03-20 00:00:00|     8310|   42|        0|        New York|        New York|\n",
            "|27766|      California|     US|           36.1162|-119.6816|2020-03-20 00:00:00|     1177|   23|        0|      California|      California|\n",
            "|27767|   Massachusetts|     US|           42.2302| -71.5301|2020-03-20 00:00:00|      413|    1|        0|   Massachusetts|   Massachusetts|\n",
            "|27768|Diamond Princess|     US|           35.4437|  139.638|2020-03-20 00:00:00|       49|    0|        0|Diamond Princess|Diamond Princess|\n",
            "|27769|  Grand Princess|     US|           37.6489|-122.6655|2020-03-20 00:00:00|       23|    0|        0|  Grand Princess|  Grand Princess|\n",
            "|27770|         Georgia|     US|           33.0406| -83.6431|2020-03-20 00:00:00|      420|   13|        0|         Georgia|         Georgia|\n",
            "|27771|        Colorado|     US|           39.0598|-105.3111|2020-03-20 00:00:00|      363|    4|        0|        Colorado|        Colorado|\n",
            "|27772|         Florida|     US|           27.7663| -81.6868|2020-03-20 00:00:00|      563|   10|        0|         Florida|         Florida|\n",
            "|27773|      New Jersey|     US|           40.2989|  -74.521|2020-03-20 00:00:00|      890|   11|        0|      New Jersey|      New Jersey|\n",
            "|27774|          Oregon|     US|44.571999999999996|-122.0709|2020-03-20 00:00:00|      114|    3|        0|          Oregon|          Oregon|\n",
            "|27775|           Texas|     US|           31.0545| -97.5635|2020-03-20 00:00:00|      394|    5|        0|           Texas|           Texas|\n",
            "|27776|        Illinois|     US|           40.3495| -88.9861|2020-03-20 00:00:00|      585|    5|        0|        Illinois|        Illinois|\n",
            "|27777|    Pennsylvania|     US|           40.5908| -77.2098|2020-03-20 00:00:00|      303|    1|        0|    Pennsylvania|    Pennsylvania|\n",
            "|27778|            Iowa|     US|           42.0115| -93.2105|2020-03-20 00:00:00|       45|    0|        0|            Iowa|            Iowa|\n",
            "|27779|        Maryland|     US|           39.0639| -76.8021|2020-03-20 00:00:00|      149|    1|        0|        Maryland|        Maryland|\n",
            "|27780|  North Carolina|     US|           35.6301| -79.8064|2020-03-20 00:00:00|      172|    0|        0|  North Carolina|  North Carolina|\n",
            "|27781|  South Carolina|     US|           33.8569|  -80.945|2020-03-20 00:00:00|      126|    1|        0|  South Carolina|  South Carolina|\n",
            "|27782|       Tennessee|     US|           35.7478| -86.6923|2020-03-20 00:00:00|      233|    0|        0|       Tennessee|       Tennessee|\n",
            "+-----+----------------+-------+------------------+---------+-------------------+---------+-----+---------+----------------+----------------+\n",
            "only showing top 20 rows\n",
            "\n"
          ],
          "name": "stdout"
        }
      ]
    },
    {
      "cell_type": "code",
      "metadata": {
        "id": "WQB1vmUtPIAL",
        "colab_type": "code",
        "colab": {
          "base_uri": "https://localhost:8080/",
          "height": 459
        },
        "outputId": "435a30f9-7110-4a9b-9ec2-14973eef8911"
      },
      "source": [
        "# we can also sort using order by function , same output \n",
        "corona_df.filter(\"Country = 'US'\").orderBy(col(\"Date\"), ascending = False).show()"
      ],
      "execution_count": 53,
      "outputs": [
        {
          "output_type": "stream",
          "text": [
            "+-----+----------------+-------+------------------+---------+-------------------+---------+-----+---------+----------------+----------------+\n",
            "|  _c0|           State|Country|               Lat|     Long|               Date|Confirmed|Death|Recovered|   state_cleaned|            City|\n",
            "+-----+----------------+-------+------------------+---------+-------------------+---------+-----+---------+----------------+----------------+\n",
            "|27764|      Washington|     US|           47.4009|-121.4905|2020-03-20 00:00:00|     1524|   83|        0|      Washington|      Washington|\n",
            "|27784|         Arizona|     US|           33.7298|-111.4312|2020-03-20 00:00:00|       78|    0|        0|         Arizona|         Arizona|\n",
            "|27765|        New York|     US|           42.1657| -74.9481|2020-03-20 00:00:00|     8310|   42|        0|        New York|        New York|\n",
            "|27766|      California|     US|           36.1162|-119.6816|2020-03-20 00:00:00|     1177|   23|        0|      California|      California|\n",
            "|27767|   Massachusetts|     US|           42.2302| -71.5301|2020-03-20 00:00:00|      413|    1|        0|   Massachusetts|   Massachusetts|\n",
            "|27768|Diamond Princess|     US|           35.4437|  139.638|2020-03-20 00:00:00|       49|    0|        0|Diamond Princess|Diamond Princess|\n",
            "|27769|  Grand Princess|     US|           37.6489|-122.6655|2020-03-20 00:00:00|       23|    0|        0|  Grand Princess|  Grand Princess|\n",
            "|27770|         Georgia|     US|           33.0406| -83.6431|2020-03-20 00:00:00|      420|   13|        0|         Georgia|         Georgia|\n",
            "|27771|        Colorado|     US|           39.0598|-105.3111|2020-03-20 00:00:00|      363|    4|        0|        Colorado|        Colorado|\n",
            "|27772|         Florida|     US|           27.7663| -81.6868|2020-03-20 00:00:00|      563|   10|        0|         Florida|         Florida|\n",
            "|27773|      New Jersey|     US|           40.2989|  -74.521|2020-03-20 00:00:00|      890|   11|        0|      New Jersey|      New Jersey|\n",
            "|27774|          Oregon|     US|44.571999999999996|-122.0709|2020-03-20 00:00:00|      114|    3|        0|          Oregon|          Oregon|\n",
            "|27775|           Texas|     US|           31.0545| -97.5635|2020-03-20 00:00:00|      394|    5|        0|           Texas|           Texas|\n",
            "|27776|        Illinois|     US|           40.3495| -88.9861|2020-03-20 00:00:00|      585|    5|        0|        Illinois|        Illinois|\n",
            "|27777|    Pennsylvania|     US|           40.5908| -77.2098|2020-03-20 00:00:00|      303|    1|        0|    Pennsylvania|    Pennsylvania|\n",
            "|27778|            Iowa|     US|           42.0115| -93.2105|2020-03-20 00:00:00|       45|    0|        0|            Iowa|            Iowa|\n",
            "|27779|        Maryland|     US|           39.0639| -76.8021|2020-03-20 00:00:00|      149|    1|        0|        Maryland|        Maryland|\n",
            "|27780|  North Carolina|     US|           35.6301| -79.8064|2020-03-20 00:00:00|      172|    0|        0|  North Carolina|  North Carolina|\n",
            "|27781|  South Carolina|     US|           33.8569|  -80.945|2020-03-20 00:00:00|      126|    1|        0|  South Carolina|  South Carolina|\n",
            "|27782|       Tennessee|     US|           35.7478| -86.6923|2020-03-20 00:00:00|      233|    0|        0|       Tennessee|       Tennessee|\n",
            "+-----+----------------+-------+------------------+---------+-------------------+---------+-----+---------+----------------+----------------+\n",
            "only showing top 20 rows\n",
            "\n"
          ],
          "name": "stdout"
        }
      ]
    },
    {
      "cell_type": "markdown",
      "metadata": {
        "id": "VlzKnNhvPX-a",
        "colab_type": "text"
      },
      "source": [
        "Sort & group by are wide transformations & hence they are expensive. \n",
        "If we know which partition have which data than we can use sort within partions. \n"
      ]
    },
    {
      "cell_type": "code",
      "metadata": {
        "id": "OVWEPlDFPSjC",
        "colab_type": "code",
        "colab": {
          "base_uri": "https://localhost:8080/",
          "height": 459
        },
        "outputId": "f5b6c43a-e8f7-4a41-ba08-248322970f20"
      },
      "source": [
        "corona_df.filter(\"Country = 'US'\").sortWithinPartitions([col(\"Date\"), col(\"Confirmed\")], ascending = False).show()\n",
        "# This is basically \n",
        "# For optimization purposes, it’s sometimes advisable to sort within each partition before another\n",
        "# set of transformations."
      ],
      "execution_count": 54,
      "outputs": [
        {
          "output_type": "stream",
          "text": [
            "+-----+--------------+-------+-------+---------+-------------------+---------+-----+---------+--------------+--------------+\n",
            "|  _c0|         State|Country|    Lat|     Long|               Date|Confirmed|Death|Recovered| state_cleaned|          City|\n",
            "+-----+--------------+-------+-------+---------+-------------------+---------+-----+---------+--------------+--------------+\n",
            "|27765|      New York|     US|42.1657| -74.9481|2020-03-20 00:00:00|     8310|   42|        0|      New York|      New York|\n",
            "|27764|    Washington|     US|47.4009|-121.4905|2020-03-20 00:00:00|     1524|   83|        0|    Washington|    Washington|\n",
            "|27766|    California|     US|36.1162|-119.6816|2020-03-20 00:00:00|     1177|   23|        0|    California|    California|\n",
            "|27773|    New Jersey|     US|40.2989|  -74.521|2020-03-20 00:00:00|      890|   11|        0|    New Jersey|    New Jersey|\n",
            "|27776|      Illinois|     US|40.3495| -88.9861|2020-03-20 00:00:00|      585|    5|        0|      Illinois|      Illinois|\n",
            "|27772|       Florida|     US|27.7663| -81.6868|2020-03-20 00:00:00|      563|   10|        0|       Florida|       Florida|\n",
            "|27812|      Michigan|     US|43.3266| -84.5361|2020-03-20 00:00:00|      552|    3|        0|      Michigan|      Michigan|\n",
            "|27804|     Louisiana|     US|31.1695| -91.8678|2020-03-20 00:00:00|      538|   14|        0|     Louisiana|     Louisiana|\n",
            "|27770|       Georgia|     US|33.0406| -83.6431|2020-03-20 00:00:00|      420|   13|        0|       Georgia|       Georgia|\n",
            "|27767| Massachusetts|     US|42.2302| -71.5301|2020-03-20 00:00:00|      413|    1|        0| Massachusetts| Massachusetts|\n",
            "|27775|         Texas|     US|31.0545| -97.5635|2020-03-20 00:00:00|      394|    5|        0|         Texas|         Texas|\n",
            "|27771|      Colorado|     US|39.0598|-105.3111|2020-03-20 00:00:00|      363|    4|        0|      Colorado|      Colorado|\n",
            "|27777|  Pennsylvania|     US|40.5908| -77.2098|2020-03-20 00:00:00|      303|    1|        0|  Pennsylvania|  Pennsylvania|\n",
            "|27782|     Tennessee|     US|35.7478| -86.6923|2020-03-20 00:00:00|      233|    0|        0|     Tennessee|     Tennessee|\n",
            "|27794|     Wisconsin|     US|44.2685| -89.6165|2020-03-20 00:00:00|      207|    3|        0|     Wisconsin|     Wisconsin|\n",
            "|27795|   Connecticut|     US|41.5978| -72.7554|2020-03-20 00:00:00|      194|    3|        0|   Connecticut|   Connecticut|\n",
            "|27792|          Ohio|     US|40.3888| -82.7649|2020-03-20 00:00:00|      173|    2|        0|          Ohio|          Ohio|\n",
            "|27780|North Carolina|     US|35.6301| -79.8064|2020-03-20 00:00:00|      172|    0|        0|North Carolina|North Carolina|\n",
            "|27779|      Maryland|     US|39.0639| -76.8021|2020-03-20 00:00:00|      149|    1|        0|      Maryland|      Maryland|\n",
            "|27781|South Carolina|     US|33.8569|  -80.945|2020-03-20 00:00:00|      126|    1|        0|South Carolina|South Carolina|\n",
            "+-----+--------------+-------+-------+---------+-------------------+---------+-----+---------+--------------+--------------+\n",
            "only showing top 20 rows\n",
            "\n"
          ],
          "name": "stdout"
        }
      ]
    },
    {
      "cell_type": "code",
      "metadata": {
        "id": "9HtHp7cVQSal",
        "colab_type": "code",
        "colab": {
          "base_uri": "https://localhost:8080/",
          "height": 187
        },
        "outputId": "8be88fb5-a4bd-4986-c120-dab3d2e78324"
      },
      "source": [
        "corona_df.describe().show()"
      ],
      "execution_count": 55,
      "outputs": [
        {
          "output_type": "stream",
          "text": [
            "+-------+-----------------+---------+-----------+------------------+------------------+------------------+------------------+------------------+-------------+-----------+\n",
            "|summary|              _c0|    State|    Country|               Lat|              Long|         Confirmed|             Death|         Recovered|state_cleaned|       City|\n",
            "+-------+-----------------+---------+-----------+------------------+------------------+------------------+------------------+------------------+-------------+-----------+\n",
            "|  count|            28143|    19116|      28143|             28143|             28143|             28143|             28143|             28143|        28143|      14573|\n",
            "|   mean|          14071.0|     null|       null|30.965553459118834|-34.57031257861667|161.88245744945456| 5.494368048893153| 60.17290267562094|         null|       null|\n",
            "| stddev|8124.328649186959|     null|       null|19.365472826597646| 80.78375872452575| 2519.847217725942|109.29475709869875|1346.6597829124426|         null|       null|\n",
            "|    min|                0|Adams, IN|Afghanistan|          -41.4545|         -157.8584|                 0|                 0|                 0|    Abu Dhabi|      Adams|\n",
            "|    max|            28142| Zhejiang|   Zimbabwe|           71.7069|           178.065|             67800|              4032|             58382|     erdészet|Yolo County|\n",
            "+-------+-----------------+---------+-----------+------------------+------------------+------------------+------------------+------------------+-------------+-----------+\n",
            "\n"
          ],
          "name": "stdout"
        }
      ]
    },
    {
      "cell_type": "code",
      "metadata": {
        "id": "xOpw1AErQX2b",
        "colab_type": "code",
        "colab": {
          "base_uri": "https://localhost:8080/",
          "height": 238
        },
        "outputId": "ecc6e4c3-c5e4-42c2-8cf8-60ed78c9d405"
      },
      "source": [
        "corona_df.printSchema()\n",
        "# Since we have done infer schema this infromation is inferred in that step. "
      ],
      "execution_count": 56,
      "outputs": [
        {
          "output_type": "stream",
          "text": [
            "root\n",
            " |-- _c0: integer (nullable = true)\n",
            " |-- State: string (nullable = true)\n",
            " |-- Country: string (nullable = true)\n",
            " |-- Lat: double (nullable = true)\n",
            " |-- Long: double (nullable = true)\n",
            " |-- Date: timestamp (nullable = true)\n",
            " |-- Confirmed: integer (nullable = true)\n",
            " |-- Death: integer (nullable = true)\n",
            " |-- Recovered: integer (nullable = true)\n",
            " |-- state_cleaned: string (nullable = true)\n",
            " |-- City: string (nullable = true)\n",
            "\n"
          ],
          "name": "stdout"
        }
      ]
    },
    {
      "cell_type": "code",
      "metadata": {
        "id": "bV4rfZagQeuv",
        "colab_type": "code",
        "colab": {
          "base_uri": "https://localhost:8080/",
          "height": 459
        },
        "outputId": "3b6f9208-ab29-4d27-8c69-6f54003e2b8c"
      },
      "source": [
        "corona_df.filter('Confirmed>10000').sort(col('Confirmed')).show()\n",
        "# By default sort is ascending "
      ],
      "execution_count": 58,
      "outputs": [
        {
          "output_type": "stream",
          "text": [
            "+-----+------+-------+-------+--------+-------------------+---------+-----+---------+-------------+----+\n",
            "|  _c0| State|Country|    Lat|    Long|               Date|Confirmed|Death|Recovered|state_cleaned|City|\n",
            "+-----+------+-------+-------+--------+-------------------+---------+-----+---------+-------------+----+\n",
            "|24005|  null|   Iran|   32.0|    53.0|2020-03-12 00:00:00|    10075|  429|     2959|       Tehran|null|\n",
            "|22912|  null|  Italy|   43.0|    12.0|2020-03-10 00:00:00|    10149|  631|      724|         Rome|null|\n",
            "|27346|France| France|46.2276|  2.2137|2020-03-19 00:00:00|    10871|  243|       12|       France|null|\n",
            "| 5401| Hubei|  China|30.9756|112.2707|2020-02-02 00:00:00|    11177|  350|      295|        Hubei|null|\n",
            "|24482|  null|   Iran|   32.0|    53.0|2020-03-13 00:00:00|    11364|  514|     2959|       Tehran|null|\n",
            "|26253|  null|  Spain|   40.0|    -4.0|2020-03-17 00:00:00|    11748|  533|     1028|       Toledo|null|\n",
            "|26723|  null|Germany|   51.0|     9.0|2020-03-18 00:00:00|    12327|   28|      105|       Berlin|null|\n",
            "|23866|  null|  Italy|   43.0|    12.0|2020-03-12 00:00:00|    12462|  827|     1045|         Rome|null|\n",
            "|23389|  null|  Italy|   43.0|    12.0|2020-03-11 00:00:00|    12462|  827|     1045|         Rome|null|\n",
            "|27823|France| France|46.2276|  2.2137|2020-03-20 00:00:00|    12612|  450|       12|       France|null|\n",
            "|24959|  null|   Iran|   32.0|    53.0|2020-03-14 00:00:00|    12729|  611|     2959|       Tehran|null|\n",
            "| 5878| Hubei|  China|30.9756|112.2707|2020-02-03 00:00:00|    13522|  414|      386|        Hubei|null|\n",
            "|26730|  null|  Spain|   40.0|    -4.0|2020-03-18 00:00:00|    13910|  623|     1081|       Toledo|null|\n",
            "|25436|  null|   Iran|   32.0|    53.0|2020-03-15 00:00:00|    13938|  724|     4590|       Tehran|null|\n",
            "|25913|  null|   Iran|   32.0|    53.0|2020-03-16 00:00:00|    14991|  853|     4590|       Tehran|null|\n",
            "|27200|  null|Germany|   51.0|     9.0|2020-03-19 00:00:00|    15320|   44|      113|       Berlin|null|\n",
            "|26390|  null|   Iran|   32.0|    53.0|2020-03-17 00:00:00|    16169|  988|     5389|       Tehran|null|\n",
            "| 6355| Hubei|  China|30.9756|112.2707|2020-02-04 00:00:00|    16678|  479|      522|        Hubei|null|\n",
            "|26867|  null|   Iran|   32.0|    53.0|2020-03-18 00:00:00|    17361| 1135|     5389|       Tehran|null|\n",
            "|24343|  null|  Italy|   43.0|    12.0|2020-03-13 00:00:00|    17660| 1266|     1439|         Rome|null|\n",
            "+-----+------+-------+-------+--------+-------------------+---------+-----+---------+-------------+----+\n",
            "only showing top 20 rows\n",
            "\n"
          ],
          "name": "stdout"
        }
      ]
    },
    {
      "cell_type": "code",
      "metadata": {
        "id": "OpSPPesTQxLH",
        "colab_type": "code",
        "colab": {
          "base_uri": "https://localhost:8080/",
          "height": 34
        },
        "outputId": "c473daff-9e28-4c95-d6ee-914824c98918"
      },
      "source": [
        "corona_df.agg({\"Date\":\"max\"}).collect()"
      ],
      "execution_count": 59,
      "outputs": [
        {
          "output_type": "execute_result",
          "data": {
            "text/plain": [
              "[Row(max(Date)=datetime.datetime(2020, 3, 20, 0, 0))]"
            ]
          },
          "metadata": {
            "tags": []
          },
          "execution_count": 59
        }
      ]
    },
    {
      "cell_type": "code",
      "metadata": {
        "id": "JUjxYdiISC6J",
        "colab_type": "code",
        "colab": {
          "base_uri": "https://localhost:8080/",
          "height": 34
        },
        "outputId": "5b6e113f-3263-43a0-b3b5-928452ea47ca"
      },
      "source": [
        "# Can also get aggregations on multiple columns \n",
        "\n",
        "corona_df.agg({\"Date\":\"max\", \"Confirmed\": \"max\"}).collect()"
      ],
      "execution_count": 60,
      "outputs": [
        {
          "output_type": "execute_result",
          "data": {
            "text/plain": [
              "[Row(max(Confirmed)=67800, max(Date)=datetime.datetime(2020, 3, 20, 0, 0))]"
            ]
          },
          "metadata": {
            "tags": []
          },
          "execution_count": 60
        }
      ]
    },
    {
      "cell_type": "code",
      "metadata": {
        "id": "VxHHkn98SLzE",
        "colab_type": "code",
        "colab": {
          "base_uri": "https://localhost:8080/",
          "height": 119
        },
        "outputId": "8fe6178f-84df-4df7-c0f4-b648b9a5808f"
      },
      "source": [
        "# Based on this lets get the latest date data frame. \n",
        "# get the latest date \n",
        "max_date = corona_df.agg({\"Date\":\"max\"})\n",
        "max_date.show()"
      ],
      "execution_count": 62,
      "outputs": [
        {
          "output_type": "stream",
          "text": [
            "+-------------------+\n",
            "|          max(Date)|\n",
            "+-------------------+\n",
            "|2020-03-20 00:00:00|\n",
            "+-------------------+\n",
            "\n"
          ],
          "name": "stdout"
        }
      ]
    },
    {
      "cell_type": "code",
      "metadata": {
        "id": "8yUCx79bSaEy",
        "colab_type": "code",
        "colab": {
          "base_uri": "https://localhost:8080/",
          "height": 459
        },
        "outputId": "f7bee495-3300-473c-9cc0-8e9d4540fe08"
      },
      "source": [
        "import pyspark.sql.functions as F\n",
        "corona_df.groupBy(\"Country\", \"State_cleaned\").agg(F.max(\"Date\").alias(\"Date\")).show()"
      ],
      "execution_count": 66,
      "outputs": [
        {
          "output_type": "stream",
          "text": [
            "+--------------+--------------------+-------------------+\n",
            "|       Country|       State_cleaned|               Date|\n",
            "+--------------+--------------------+-------------------+\n",
            "|      Cameroon|             Yaounde|2020-03-20 00:00:00|\n",
            "|        Cyprus|             Nicosia|2020-03-20 00:00:00|\n",
            "|            US|            Michigan|2020-03-20 00:00:00|\n",
            "|         China|             Qinghai|2020-03-20 00:00:00|\n",
            "|      Portugal|              Lisbon|2020-03-20 00:00:00|\n",
            "|            US|            Colorado|2020-03-20 00:00:00|\n",
            "|United Kingdom|      Cayman Islands|2020-03-20 00:00:00|\n",
            "|            US|            Missouri|2020-03-20 00:00:00|\n",
            "|         China|              Hainan|2020-03-20 00:00:00|\n",
            "|     Australia|Australian Capita...|2020-03-20 00:00:00|\n",
            "|            US|                Guam|2020-03-20 00:00:00|\n",
            "|        France|             Reunion|2020-03-20 00:00:00|\n",
            "|      Colombia|        Cundinamarca|2020-03-20 00:00:00|\n",
            "|          Cuba|              Havana|2020-03-20 00:00:00|\n",
            "|     Mauritius|          Port Louis|2020-03-20 00:00:00|\n",
            "|       Ukraine|                Kiev|2020-03-20 00:00:00|\n",
            "|   Switzerland|                Bern|2020-03-20 00:00:00|\n",
            "|         Benin|          Porto-Novo|2020-03-20 00:00:00|\n",
            "|         Malta|               Mgarr|2020-03-20 00:00:00|\n",
            "|United Kingdom|         Isle of Man|2020-03-20 00:00:00|\n",
            "+--------------+--------------------+-------------------+\n",
            "only showing top 20 rows\n",
            "\n"
          ],
          "name": "stdout"
        }
      ]
    },
    {
      "cell_type": "code",
      "metadata": {
        "id": "-3JN7yNeSQgw",
        "colab_type": "code",
        "colab": {
          "base_uri": "https://localhost:8080/",
          "height": 459
        },
        "outputId": "3a5b2815-fbd5-4ac3-aa02-f4f086bbd24b"
      },
      "source": [
        "# Using the above commandm we can join the original dataset with the above created dataset which gives us the maximum date for country,statecleaned group\n",
        "# Joining this will give us the latest data & full  for this group\n",
        "\n",
        "corona_df.join(\n",
        "    corona_df.groupBy(\"Country\", \"State_cleaned\").agg(F.max(\"Date\").alias(\"Date\")), \n",
        "    on = ['Country', 'State_cleaned', 'Date'], \n",
        "    how =  \"inner\"\n",
        ").show()"
      ],
      "execution_count": 67,
      "outputs": [
        {
          "output_type": "stream",
          "text": [
            "+--------------------+--------------------+-------------------+-----+----------------+--------+---------+---------+-----+---------+----+\n",
            "|             Country|       state_cleaned|               Date|  _c0|           State|     Lat|     Long|Confirmed|Death|Recovered|City|\n",
            "+--------------------+--------------------+-------------------+-----+----------------+--------+---------+---------+-----+---------+----+\n",
            "|            Thailand|             Bangkok|2020-03-20 00:00:00|27666|            null|    15.0|    101.0|      322|    1|       42|null|\n",
            "|               Japan|             Hiraide|2020-03-20 00:00:00|27667|            null|    36.0|    138.0|      963|   33|      191|null|\n",
            "|           Singapore|           Singapore|2020-03-20 00:00:00|27668|            null|  1.2833| 103.8333|      385|    0|      124|null|\n",
            "|               Nepal|           Kathmandu|2020-03-20 00:00:00|27669|            null| 28.1667|    84.25|        1|    0|        1|null|\n",
            "|            Malaysia|             Sarawak|2020-03-20 00:00:00|27670|            null|     2.5|    112.5|     1030|    3|       87|null|\n",
            "|              Canada|    British Columbia|2020-03-20 00:00:00|27671|British Columbia| 49.2827|-123.1207|      271|    8|        4|null|\n",
            "|           Australia|     New South Wales|2020-03-20 00:00:00|27672| New South Wales|-33.8688| 151.2093|      353|    6|        4|null|\n",
            "|           Australia|            Victoria|2020-03-20 00:00:00|27673|        Victoria|-37.8136| 144.9631|      121|    0|        8|null|\n",
            "|           Australia|          Queensland|2020-03-20 00:00:00|27674|      Queensland|-28.0167|    153.4|      184|    0|        8|null|\n",
            "|            Cambodia|          Phnom Penh|2020-03-20 00:00:00|27675|            null|   11.55| 104.9167|       51|    0|        1|null|\n",
            "|           Sri Lanka|Sri Jayawardenapu...|2020-03-20 00:00:00|27676|            null|     7.0|     81.0|       73|    0|        3|null|\n",
            "|             Germany|              Berlin|2020-03-20 00:00:00|27677|            null|    51.0|      9.0|    19848|   67|      180|null|\n",
            "|             Finland|            Helsinki|2020-03-20 00:00:00|27678|            null|    64.0|     26.0|      450|    0|       10|null|\n",
            "|United Arab Emirates|           Abu Dhabi|2020-03-20 00:00:00|27679|            null|    24.0|     54.0|      140|    2|       31|null|\n",
            "|         Philippines|              Manila|2020-03-20 00:00:00|27680|            null|    13.0|    122.0|      230|   18|        8|null|\n",
            "|               India|           New Delhi|2020-03-20 00:00:00|27681|            null|    21.0|     78.0|      244|    5|       20|null|\n",
            "|               Italy|                Rome|2020-03-20 00:00:00|27682|            null|    43.0|     12.0|    47021| 4032|     4440|null|\n",
            "|              Sweden|           Stockholm|2020-03-20 00:00:00|27683|            null|    63.0|     16.0|     1639|   16|       16|null|\n",
            "|               Spain|              Toledo|2020-03-20 00:00:00|27684|            null|    40.0|     -4.0|    20410| 1043|     1588|null|\n",
            "|           Australia|     South Australia|2020-03-20 00:00:00|27685| South Australia|-34.9285| 138.6007|       50|    0|        3|null|\n",
            "+--------------------+--------------------+-------------------+-----+----------------+--------+---------+---------+-----+---------+----+\n",
            "only showing top 20 rows\n",
            "\n"
          ],
          "name": "stdout"
        }
      ]
    },
    {
      "cell_type": "code",
      "metadata": {
        "id": "U_jDktbaUNRR",
        "colab_type": "code",
        "colab": {
          "base_uri": "https://localhost:8080/",
          "height": 459
        },
        "outputId": "a7333528-3aa9-4855-8e7d-61d4a8bd5baf"
      },
      "source": [
        "# Lets sort the above query with respect to confirmed cases. \n",
        "corona_df.join(\n",
        "    corona_df.groupBy(\"Country\", \"State_cleaned\").agg(F.max(\"Date\").alias(\"Date\")), \n",
        "    on = ['Country', 'State_cleaned', 'Date'], \n",
        "    how =  \"inner\"\n",
        ").sort(col(\"Confirmed\"), ascending = False).show()"
      ],
      "execution_count": 69,
      "outputs": [
        {
          "output_type": "stream",
          "text": [
            "+--------------+----------------+-------------------+-----+--------------+-------+-------------------+---------+-----+---------+----------+\n",
            "|       Country|   state_cleaned|               Date|  _c0|         State|    Lat|               Long|Confirmed|Death|Recovered|      City|\n",
            "+--------------+----------------+-------------------+-----+--------------+-------+-------------------+---------+-----+---------+----------+\n",
            "|         China|           Hubei|2020-03-20 00:00:00|27820|         Hubei|30.9756|           112.2707|    67800| 3133|    58382|      null|\n",
            "|         Italy|            Rome|2020-03-20 00:00:00|27682|          null|   43.0|               12.0|    47021| 4032|     4440|      null|\n",
            "|         Spain|          Toledo|2020-03-20 00:00:00|27684|          null|   40.0|               -4.0|    20410| 1043|     1588|      null|\n",
            "|       Germany|          Berlin|2020-03-20 00:00:00|27677|          null|   51.0|                9.0|    19848|   67|      180|      null|\n",
            "|          Iran|          Tehran|2020-03-20 00:00:00|27821|          null|   32.0|               53.0|    19644| 1433|     6745|      null|\n",
            "|        France|          France|2020-03-20 00:00:00|27823|        France|46.2276|             2.2137|    12612|  450|       12|      null|\n",
            "|  Korea, South|Gyeongsangbuk-do|2020-03-20 00:00:00|27822|          null|   36.0|              128.0|     8652|   94|     1540|      null|\n",
            "|            US|        New York|2020-03-20 00:00:00|27765|      New York|42.1657|           -74.9481|     8310|   42|        0|  New York|\n",
            "|   Switzerland|            Bern|2020-03-20 00:00:00|27697|          null|46.8182|             8.2275|     5294|   54|       15|      null|\n",
            "|United Kingdom|  United Kingdom|2020-03-20 00:00:00|28069|United Kingdom|55.3781|-3.4360000000000004|     3983|  177|       65|      null|\n",
            "|   Netherlands|     Netherlands|2020-03-20 00:00:00|28106|   Netherlands|52.1326|             5.2913|     2994|  106|        2|      null|\n",
            "|       Austria|          Vienna|2020-03-20 00:00:00|27698|          null|47.5162|            14.5501|     2388|    6|        9|      null|\n",
            "|       Belgium|        Brussels|2020-03-20 00:00:00|27686|          null|50.8333|                4.0|     2257|   37|        1|      null|\n",
            "|        Norway|             Hol|2020-03-20 00:00:00|27705|          null| 60.472|             8.4689|     1914|    7|        1|      null|\n",
            "|        Sweden|       Stockholm|2020-03-20 00:00:00|27683|          null|   63.0|               16.0|     1639|   16|       16|      null|\n",
            "|            US|      Washington|2020-03-20 00:00:00|27764|    Washington|47.4009|          -121.4905|     1524|   83|        0|Washington|\n",
            "|         China|       Guangdong|2020-03-20 00:00:00|27824|     Guangdong|23.3417|           113.4244|     1395|    8|     1323|      null|\n",
            "|         China|           Henan|2020-03-20 00:00:00|27825|         Henan| 33.882| 113.61399999999999|     1273|   22|     1250|      null|\n",
            "|       Denmark|         Denmark|2020-03-20 00:00:00|27836|       Denmark|56.2639|             9.5018|     1255|    9|        1|      null|\n",
            "|         China|        Zhejiang|2020-03-20 00:00:00|27826|      Zhejiang|29.1832|           120.0934|     1234|    1|     1219|      null|\n",
            "+--------------+----------------+-------------------+-----+--------------+-------+-------------------+---------+-----+---------+----------+\n",
            "only showing top 20 rows\n",
            "\n"
          ],
          "name": "stdout"
        }
      ]
    },
    {
      "cell_type": "markdown",
      "metadata": {
        "id": "GBOVwb0ZUokT",
        "colab_type": "text"
      },
      "source": [
        "Window Functions \n",
        "\n",
        "Window aggregate functions (aka window functions or windowed aggregates) are functions that perform a calculation over a group of records called window that are in some relation to the current record. \n",
        "Window functions are also called over functions due to how they are applied using over operator.\n",
        "Spark SQL supports three kinds of window functions:\n",
        "\n",
        "ranking functions ,  analytic functions , aggregate function\n",
        "\n",
        "We are partitioning the data. We can create partitions logically. When we partition the data using country & state & than order it by date in window specification. \n",
        "Than we assign a row number over the partition. "
      ]
    },
    {
      "cell_type": "code",
      "metadata": {
        "id": "1858yhUHU-X3",
        "colab_type": "code",
        "colab": {
          "base_uri": "https://localhost:8080/",
          "height": 459
        },
        "outputId": "99119678-546b-48bc-daf0-257483f8403c"
      },
      "source": [
        "from pyspark.sql.functions import row_number \n",
        "from pyspark.sql.window import Window\n",
        "\n",
        "# here we are partition the data by country & state & than order by date \n",
        "ws = Window().partitionBy(\"Country\", \"State_cleaned\").orderBy(col(\"Date\").desc())\n",
        "\n",
        "# adding the column row numvber over the window specification \n",
        "corona_df.withColumn(\"row_num\", row_number().over(ws)).show()\n",
        "\n",
        "\n",
        "# so using the window function, we have logically partitioned data.\n",
        "# for each date of the group it is going to assign a row number \n",
        "# we see that for the cameroin & states we have row number for each date. "
      ],
      "execution_count": 74,
      "outputs": [
        {
          "output_type": "stream",
          "text": [
            "+-----+-----+--------+------------------+-------+-------------------+---------+-----+---------+-------------+----+-------+\n",
            "|  _c0|State| Country|               Lat|   Long|               Date|Confirmed|Death|Recovered|state_cleaned|City|row_num|\n",
            "+-----+-----+--------+------------------+-------+-------------------+---------+-----+---------+-------------+----+-------+\n",
            "|27745| null|Cameroon|3.8480000000000003|11.5021|2020-03-20 00:00:00|       20|    0|        0|      Yaounde|null|      1|\n",
            "|27268| null|Cameroon|3.8480000000000003|11.5021|2020-03-19 00:00:00|       13|    0|        0|      Yaounde|null|      2|\n",
            "|26791| null|Cameroon|3.8480000000000003|11.5021|2020-03-18 00:00:00|       10|    0|        0|      Yaounde|null|      3|\n",
            "|26314| null|Cameroon|3.8480000000000003|11.5021|2020-03-17 00:00:00|       10|    0|        0|      Yaounde|null|      4|\n",
            "|25837| null|Cameroon|3.8480000000000003|11.5021|2020-03-16 00:00:00|        4|    0|        0|      Yaounde|null|      5|\n",
            "|25360| null|Cameroon|3.8480000000000003|11.5021|2020-03-15 00:00:00|        2|    0|        0|      Yaounde|null|      6|\n",
            "|24883| null|Cameroon|3.8480000000000003|11.5021|2020-03-14 00:00:00|        2|    0|        0|      Yaounde|null|      7|\n",
            "|24406| null|Cameroon|3.8480000000000003|11.5021|2020-03-13 00:00:00|        2|    0|        0|      Yaounde|null|      8|\n",
            "|23929| null|Cameroon|3.8480000000000003|11.5021|2020-03-12 00:00:00|        2|    0|        0|      Yaounde|null|      9|\n",
            "|23452| null|Cameroon|3.8480000000000003|11.5021|2020-03-11 00:00:00|        2|    0|        0|      Yaounde|null|     10|\n",
            "|22975| null|Cameroon|3.8480000000000003|11.5021|2020-03-10 00:00:00|        2|    0|        0|      Yaounde|null|     11|\n",
            "|22498| null|Cameroon|3.8480000000000003|11.5021|2020-03-09 00:00:00|        2|    0|        0|      Yaounde|null|     12|\n",
            "|22021| null|Cameroon|3.8480000000000003|11.5021|2020-03-08 00:00:00|        2|    0|        0|      Yaounde|null|     13|\n",
            "|21544| null|Cameroon|3.8480000000000003|11.5021|2020-03-07 00:00:00|        1|    0|        0|      Yaounde|null|     14|\n",
            "|21067| null|Cameroon|3.8480000000000003|11.5021|2020-03-06 00:00:00|        1|    0|        0|      Yaounde|null|     15|\n",
            "|20590| null|Cameroon|3.8480000000000003|11.5021|2020-03-05 00:00:00|        0|    0|        0|      Yaounde|null|     16|\n",
            "|20113| null|Cameroon|3.8480000000000003|11.5021|2020-03-04 00:00:00|        0|    0|        0|      Yaounde|null|     17|\n",
            "|19636| null|Cameroon|3.8480000000000003|11.5021|2020-03-03 00:00:00|        0|    0|        0|      Yaounde|null|     18|\n",
            "|19159| null|Cameroon|3.8480000000000003|11.5021|2020-03-02 00:00:00|        0|    0|        0|      Yaounde|null|     19|\n",
            "|18682| null|Cameroon|3.8480000000000003|11.5021|2020-03-01 00:00:00|        0|    0|        0|      Yaounde|null|     20|\n",
            "+-----+-----+--------+------------------+-------+-------------------+---------+-----+---------+-------------+----+-------+\n",
            "only showing top 20 rows\n",
            "\n"
          ],
          "name": "stdout"
        }
      ]
    },
    {
      "cell_type": "code",
      "metadata": {
        "id": "Sd_fvboVaiEP",
        "colab_type": "code",
        "colab": {
          "base_uri": "https://localhost:8080/",
          "height": 459
        },
        "outputId": "9081f70e-609f-4eb4-c320-b76083e0b8ce"
      },
      "source": [
        "# Now we are adding one more condition \n",
        "corona_df.withColumn(\"row_num\", row_number().over(ws)).where(col(\"row_num\") == 1).show()\n",
        "# This is basically getting the records where ever the row number is 1. \n",
        "# this is ist row for each country & state \n",
        "# This is another way of filtering or we can say grouping \n"
      ],
      "execution_count": 75,
      "outputs": [
        {
          "output_type": "stream",
          "text": [
            "+-----+--------------------+--------------+------------------+---------+-------------------+---------+-----+---------+--------------------+--------+-------+\n",
            "|  _c0|               State|       Country|               Lat|     Long|               Date|Confirmed|Death|Recovered|       state_cleaned|    City|row_num|\n",
            "+-----+--------------------+--------------+------------------+---------+-------------------+---------+-----+---------+--------------------+--------+-------+\n",
            "|27745|                null|      Cameroon|3.8480000000000003|  11.5021|2020-03-20 00:00:00|       20|    0|        0|             Yaounde|    null|      1|\n",
            "|27859|             Qinghai|         China|           35.7452|  95.9956|2020-03-20 00:00:00|       18|    0|       18|             Qinghai|    null|      1|\n",
            "|27762|                null|        Cyprus|           35.1264|  33.4299|2020-03-20 00:00:00|       67|    0|        0|             Nicosia|    null|      1|\n",
            "|27812|            Michigan|            US|           43.3266| -84.5361|2020-03-20 00:00:00|      552|    3|        0|            Michigan|Michigan|      1|\n",
            "|27725|                null|      Portugal|           39.3999|  -8.2245|2020-03-20 00:00:00|     1020|    6|        5|              Lisbon|    null|      1|\n",
            "|27771|            Colorado|            US|           39.0598|-105.3111|2020-03-20 00:00:00|      363|    4|        0|            Colorado|Colorado|      1|\n",
            "|28115|      Cayman Islands|United Kingdom|           19.3133| -81.2546|2020-03-20 00:00:00|        3|    1|        0|      Cayman Islands|    null|      1|\n",
            "|27844|              Hainan|         China|           19.1959| 109.7453|2020-03-20 00:00:00|      168|    6|      161|              Hainan|    null|      1|\n",
            "|27805|            Missouri|            US|           38.4561| -92.2884|2020-03-20 00:00:00|       53|    2|        0|            Missouri|Missouri|      1|\n",
            "|28068|Australian Capita...|     Australia|          -35.4735| 149.0124|2020-03-20 00:00:00|        6|    0|        0|Australian Capita...|    null|      1|\n",
            "|28097|                Guam|            US|           13.4443| 144.7937|2020-03-20 00:00:00|       14|    0|        0|                Guam|    Guam|      1|\n",
            "|28116|             Reunion|        France|          -21.1351|  55.2471|2020-03-20 00:00:00|       28|    0|        0|             Reunion|    null|      1|\n",
            "|27746|                null|      Colombia|            4.5709| -74.2973|2020-03-20 00:00:00|      128|    0|        1|        Cundinamarca|    null|      1|\n",
            "|28066|                null|          Cuba|              22.0|    -80.0|2020-03-20 00:00:00|       16|    1|        0|              Havana|    null|      1|\n",
            "|28120|                null|     Mauritius|             -20.2|     57.5|2020-03-20 00:00:00|       12|    0|        0|          Port Louis|    null|      1|\n",
            "|27735|                null|       Ukraine|           48.3794|  31.1656|2020-03-20 00:00:00|       29|    3|        0|                Kiev|    null|      1|\n",
            "|28109|                null|         Benin|            9.3077|   2.3158|2020-03-20 00:00:00|        2|    0|        0|          Porto-Novo|    null|      1|\n",
            "|27697|                null|   Switzerland|           46.8182|   8.2275|2020-03-20 00:00:00|     5294|   54|       15|                Bern|    null|      1|\n",
            "|27752|                null|         Malta|           35.9375|  14.3754|2020-03-20 00:00:00|       64|    0|        2|               Mgarr|    null|      1|\n",
            "|28141|         Isle of Man|United Kingdom|           54.2361|  -4.5481|2020-03-20 00:00:00|        1|    0|        0|         Isle of Man|    null|      1|\n",
            "+-----+--------------------+--------------+------------------+---------+-------------------+---------+-----+---------+--------------------+--------+-------+\n",
            "only showing top 20 rows\n",
            "\n"
          ],
          "name": "stdout"
        }
      ]
    },
    {
      "cell_type": "code",
      "metadata": {
        "id": "gn9JUmamWW3G",
        "colab_type": "code",
        "colab": {}
      },
      "source": [
        " # Moving back a bit \n",
        " # Here we are creating the dataframe using the join condition we saw earlier\n",
        " \n",
        " \n",
        " corona_max_df = corona_df.join(\n",
        "    corona_df.groupBy(\"Country\", \"State_cleaned\").agg(F.max(\"Date\").alias(\"Date\")), \n",
        "    on = ['Country', 'State_cleaned', 'Date'], \n",
        "    how =  \"inner\"\n",
        ").sort(col(\"Confirmed\"), ascending = False)"
      ],
      "execution_count": 0,
      "outputs": []
    },
    {
      "cell_type": "code",
      "metadata": {
        "id": "qZin27CQbdTX",
        "colab_type": "code",
        "colab": {
          "base_uri": "https://localhost:8080/",
          "height": 459
        },
        "outputId": "5a04fda1-99fa-405b-9b1e-4d7d8de87190"
      },
      "source": [
        "corona_max_df.show()"
      ],
      "execution_count": 100,
      "outputs": [
        {
          "output_type": "stream",
          "text": [
            "+--------------+----------------+-------------------+-----+--------------+-------+-------------------+---------+-----+---------+----------+\n",
            "|       Country|   state_cleaned|               Date|  _c0|         State|    Lat|               Long|Confirmed|Death|Recovered|      City|\n",
            "+--------------+----------------+-------------------+-----+--------------+-------+-------------------+---------+-----+---------+----------+\n",
            "|         China|           Hubei|2020-03-20 00:00:00|27820|         Hubei|30.9756|           112.2707|    67800| 3133|    58382|      null|\n",
            "|         Italy|            Rome|2020-03-20 00:00:00|27682|          null|   43.0|               12.0|    47021| 4032|     4440|      null|\n",
            "|         Spain|          Toledo|2020-03-20 00:00:00|27684|          null|   40.0|               -4.0|    20410| 1043|     1588|      null|\n",
            "|       Germany|          Berlin|2020-03-20 00:00:00|27677|          null|   51.0|                9.0|    19848|   67|      180|      null|\n",
            "|          Iran|          Tehran|2020-03-20 00:00:00|27821|          null|   32.0|               53.0|    19644| 1433|     6745|      null|\n",
            "|        France|          France|2020-03-20 00:00:00|27823|        France|46.2276|             2.2137|    12612|  450|       12|      null|\n",
            "|  Korea, South|Gyeongsangbuk-do|2020-03-20 00:00:00|27822|          null|   36.0|              128.0|     8652|   94|     1540|      null|\n",
            "|            US|        New York|2020-03-20 00:00:00|27765|      New York|42.1657|           -74.9481|     8310|   42|        0|  New York|\n",
            "|   Switzerland|            Bern|2020-03-20 00:00:00|27697|          null|46.8182|             8.2275|     5294|   54|       15|      null|\n",
            "|United Kingdom|  United Kingdom|2020-03-20 00:00:00|28069|United Kingdom|55.3781|-3.4360000000000004|     3983|  177|       65|      null|\n",
            "|   Netherlands|     Netherlands|2020-03-20 00:00:00|28106|   Netherlands|52.1326|             5.2913|     2994|  106|        2|      null|\n",
            "|       Austria|          Vienna|2020-03-20 00:00:00|27698|          null|47.5162|            14.5501|     2388|    6|        9|      null|\n",
            "|       Belgium|        Brussels|2020-03-20 00:00:00|27686|          null|50.8333|                4.0|     2257|   37|        1|      null|\n",
            "|        Norway|             Hol|2020-03-20 00:00:00|27705|          null| 60.472|             8.4689|     1914|    7|        1|      null|\n",
            "|        Sweden|       Stockholm|2020-03-20 00:00:00|27683|          null|   63.0|               16.0|     1639|   16|       16|      null|\n",
            "|            US|      Washington|2020-03-20 00:00:00|27764|    Washington|47.4009|          -121.4905|     1524|   83|        0|Washington|\n",
            "|         China|       Guangdong|2020-03-20 00:00:00|27824|     Guangdong|23.3417|           113.4244|     1395|    8|     1323|      null|\n",
            "|         China|           Henan|2020-03-20 00:00:00|27825|         Henan| 33.882| 113.61399999999999|     1273|   22|     1250|      null|\n",
            "|       Denmark|         Denmark|2020-03-20 00:00:00|27836|       Denmark|56.2639|             9.5018|     1255|    9|        1|      null|\n",
            "|         China|        Zhejiang|2020-03-20 00:00:00|27826|      Zhejiang|29.1832|           120.0934|     1234|    1|     1219|      null|\n",
            "+--------------+----------------+-------------------+-----+--------------+-------+-------------------+---------+-----+---------+----------+\n",
            "only showing top 20 rows\n",
            "\n"
          ],
          "name": "stdout"
        }
      ]
    },
    {
      "cell_type": "code",
      "metadata": {
        "id": "fcFmj0febjhA",
        "colab_type": "code",
        "colab": {
          "base_uri": "https://localhost:8080/",
          "height": 479
        },
        "outputId": "6ccc6e4c-0f03-4643-a23b-73372eb6b1e3"
      },
      "source": [
        "# We have time series data\n",
        "# Here we have grouped the data by country\n",
        "# We ned to convert the date column to columsn for each date\n",
        "corona_df.groupBy(\"Country\").pivot(\"Date\").agg(F.sum(\"Confirmed\")).show()"
      ],
      "execution_count": 80,
      "outputs": [
        {
          "output_type": "stream",
          "text": [
            "+-----------+-------------------+-------------------+-------------------+-------------------+-------------------+-------------------+-------------------+-------------------+-------------------+-------------------+-------------------+-------------------+-------------------+-------------------+-------------------+-------------------+-------------------+-------------------+-------------------+-------------------+-------------------+-------------------+-------------------+-------------------+-------------------+-------------------+-------------------+-------------------+-------------------+-------------------+-------------------+-------------------+-------------------+-------------------+-------------------+-------------------+-------------------+-------------------+-------------------+-------------------+-------------------+-------------------+-------------------+-------------------+-------------------+-------------------+-------------------+-------------------+-------------------+-------------------+-------------------+-------------------+-------------------+-------------------+-------------------+-------------------+-------------------+-------------------+-------------------+\n",
            "|    Country|2020-01-22 00:00:00|2020-01-23 00:00:00|2020-01-24 00:00:00|2020-01-25 00:00:00|2020-01-26 00:00:00|2020-01-27 00:00:00|2020-01-28 00:00:00|2020-01-29 00:00:00|2020-01-30 00:00:00|2020-01-31 00:00:00|2020-02-01 00:00:00|2020-02-02 00:00:00|2020-02-03 00:00:00|2020-02-04 00:00:00|2020-02-05 00:00:00|2020-02-06 00:00:00|2020-02-07 00:00:00|2020-02-08 00:00:00|2020-02-09 00:00:00|2020-02-10 00:00:00|2020-02-11 00:00:00|2020-02-12 00:00:00|2020-02-13 00:00:00|2020-02-14 00:00:00|2020-02-15 00:00:00|2020-02-16 00:00:00|2020-02-17 00:00:00|2020-02-18 00:00:00|2020-02-19 00:00:00|2020-02-20 00:00:00|2020-02-21 00:00:00|2020-02-22 00:00:00|2020-02-23 00:00:00|2020-02-24 00:00:00|2020-02-25 00:00:00|2020-02-26 00:00:00|2020-02-27 00:00:00|2020-02-28 00:00:00|2020-02-29 00:00:00|2020-03-01 00:00:00|2020-03-02 00:00:00|2020-03-03 00:00:00|2020-03-04 00:00:00|2020-03-05 00:00:00|2020-03-06 00:00:00|2020-03-07 00:00:00|2020-03-08 00:00:00|2020-03-09 00:00:00|2020-03-10 00:00:00|2020-03-11 00:00:00|2020-03-12 00:00:00|2020-03-13 00:00:00|2020-03-14 00:00:00|2020-03-15 00:00:00|2020-03-16 00:00:00|2020-03-17 00:00:00|2020-03-18 00:00:00|2020-03-19 00:00:00|2020-03-20 00:00:00|\n",
            "+-----------+-------------------+-------------------+-------------------+-------------------+-------------------+-------------------+-------------------+-------------------+-------------------+-------------------+-------------------+-------------------+-------------------+-------------------+-------------------+-------------------+-------------------+-------------------+-------------------+-------------------+-------------------+-------------------+-------------------+-------------------+-------------------+-------------------+-------------------+-------------------+-------------------+-------------------+-------------------+-------------------+-------------------+-------------------+-------------------+-------------------+-------------------+-------------------+-------------------+-------------------+-------------------+-------------------+-------------------+-------------------+-------------------+-------------------+-------------------+-------------------+-------------------+-------------------+-------------------+-------------------+-------------------+-------------------+-------------------+-------------------+-------------------+-------------------+-------------------+\n",
            "|       Chad|                  0|                  0|                  0|                  0|                  0|                  0|                  0|                  0|                  0|                  0|                  0|                  0|                  0|                  0|                  0|                  0|                  0|                  0|                  0|                  0|                  0|                  0|                  0|                  0|                  0|                  0|                  0|                  0|                  0|                  0|                  0|                  0|                  0|                  0|                  0|                  0|                  0|                  0|                  0|                  0|                  0|                  0|                  0|                  0|                  0|                  0|                  0|                  0|                  0|                  0|                  0|                  0|                  0|                  0|                  0|                  0|                  0|                  1|                  1|\n",
            "|     Russia|                  0|                  0|                  0|                  0|                  0|                  0|                  0|                  0|                  0|                  2|                  2|                  2|                  2|                  2|                  2|                  2|                  2|                  2|                  2|                  2|                  2|                  2|                  2|                  2|                  2|                  2|                  2|                  2|                  2|                  2|                  2|                  2|                  2|                  2|                  2|                  2|                  2|                  2|                  2|                  2|                  3|                  3|                  3|                  4|                 13|                 13|                 17|                 17|                 20|                 20|                 28|                 45|                 59|                 63|                 90|                114|                147|                199|                253|\n",
            "|   Paraguay|                  0|                  0|                  0|                  0|                  0|                  0|                  0|                  0|                  0|                  0|                  0|                  0|                  0|                  0|                  0|                  0|                  0|                  0|                  0|                  0|                  0|                  0|                  0|                  0|                  0|                  0|                  0|                  0|                  0|                  0|                  0|                  0|                  0|                  0|                  0|                  0|                  0|                  0|                  0|                  0|                  0|                  0|                  0|                  0|                  0|                  0|                  1|                  1|                  1|                  5|                  5|                  6|                  6|                  6|                  8|                  9|                 11|                 11|                 13|\n",
            "|    Senegal|                  0|                  0|                  0|                  0|                  0|                  0|                  0|                  0|                  0|                  0|                  0|                  0|                  0|                  0|                  0|                  0|                  0|                  0|                  0|                  0|                  0|                  0|                  0|                  0|                  0|                  0|                  0|                  0|                  0|                  0|                  0|                  0|                  0|                  0|                  0|                  0|                  0|                  0|                  0|                  0|                  1|                  2|                  4|                  4|                  4|                  4|                  4|                  4|                  4|                  4|                  4|                 10|                 10|                 24|                 24|                 26|                 31|                 31|                 38|\n",
            "|     Sweden|                  0|                  0|                  0|                  0|                  0|                  0|                  0|                  0|                  0|                  1|                  1|                  1|                  1|                  1|                  1|                  1|                  1|                  1|                  1|                  1|                  1|                  1|                  1|                  1|                  1|                  1|                  1|                  1|                  1|                  1|                  1|                  1|                  1|                  1|                  1|                  2|                  7|                  7|                 12|                 14|                 15|                 21|                 35|                 94|                101|                161|                203|                248|                355|                500|                599|                814|                961|               1022|               1103|               1190|               1279|               1439|               1639|\n",
            "| Cabo Verde|                  0|                  0|                  0|                  0|                  0|                  0|                  0|                  0|                  0|                  0|                  0|                  0|                  0|                  0|                  0|                  0|                  0|                  0|                  0|                  0|                  0|                  0|                  0|                  0|                  0|                  0|                  0|                  0|                  0|                  0|                  0|                  0|                  0|                  0|                  0|                  0|                  0|                  0|                  0|                  0|                  0|                  0|                  0|                  0|                  0|                  0|                  0|                  0|                  0|                  0|                  0|                  0|                  0|                  0|                  0|                  0|                  0|                  0|                  1|\n",
            "|     Guyana|                  0|                  0|                  0|                  0|                  0|                  0|                  0|                  0|                  0|                  0|                  0|                  0|                  0|                  0|                  0|                  0|                  0|                  0|                  0|                  0|                  0|                  0|                  0|                  0|                  0|                  0|                  0|                  0|                  0|                  0|                  0|                  0|                  0|                  0|                  0|                  0|                  0|                  0|                  0|                  0|                  0|                  0|                  0|                  0|                  0|                  0|                  0|                  0|                  0|                  0|                  1|                  1|                  1|                  4|                  4|                  7|                  7|                  7|                  7|\n",
            "|Philippines|                  0|                  0|                  0|                  0|                  0|                  0|                  0|                  0|                  1|                  1|                  1|                  2|                  2|                  2|                  2|                  2|                  3|                  3|                  3|                  3|                  3|                  3|                  3|                  3|                  3|                  3|                  3|                  3|                  3|                  3|                  3|                  3|                  3|                  3|                  3|                  3|                  3|                  3|                  3|                  3|                  3|                  3|                  3|                  3|                  5|                  6|                 10|                 20|                 33|                 49|                 52|                 64|                111|                140|                142|                187|                202|                217|                230|\n",
            "|   Djibouti|                  0|                  0|                  0|                  0|                  0|                  0|                  0|                  0|                  0|                  0|                  0|                  0|                  0|                  0|                  0|                  0|                  0|                  0|                  0|                  0|                  0|                  0|                  0|                  0|                  0|                  0|                  0|                  0|                  0|                  0|                  0|                  0|                  0|                  0|                  0|                  0|                  0|                  0|                  0|                  0|                  0|                  0|                  0|                  0|                  0|                  0|                  0|                  0|                  0|                  0|                  0|                  0|                  0|                  0|                  0|                  0|                  1|                  1|                  1|\n",
            "|   Malaysia|                  0|                  0|                  0|                  3|                  4|                  4|                  4|                  7|                  8|                  8|                  8|                  8|                  8|                 10|                 12|                 12|                 12|                 16|                 16|                 18|                 18|                 18|                 19|                 19|                 22|                 22|                 22|                 22|                 22|                 22|                 22|                 22|                 22|                 22|                 22|                 22|                 23|                 23|                 25|                 29|                 29|                 36|                 50|                 50|                 83|                 93|                 99|                117|                129|                149|                149|                197|                238|                428|                566|                673|                790|                900|               1030|\n",
            "|  Singapore|                  0|                  1|                  3|                  3|                  4|                  5|                  7|                  7|                 10|                 13|                 16|                 18|                 18|                 24|                 28|                 28|                 30|                 33|                 40|                 45|                 47|                 50|                 58|                 67|                 72|                 75|                 77|                 81|                 84|                 84|                 85|                 85|                 89|                 89|                 91|                 93|                 93|                 93|                102|                106|                108|                110|                110|                117|                130|                138|                150|                150|                160|                178|                178|                200|                212|                226|                243|                266|                313|                345|                385|\n",
            "|       Fiji|                  0|                  0|                  0|                  0|                  0|                  0|                  0|                  0|                  0|                  0|                  0|                  0|                  0|                  0|                  0|                  0|                  0|                  0|                  0|                  0|                  0|                  0|                  0|                  0|                  0|                  0|                  0|                  0|                  0|                  0|                  0|                  0|                  0|                  0|                  0|                  0|                  0|                  0|                  0|                  0|                  0|                  0|                  0|                  0|                  0|                  0|                  0|                  0|                  0|                  0|                  0|                  0|                  0|                  0|                  0|                  0|                  0|                  1|                  1|\n",
            "|     Turkey|                  0|                  0|                  0|                  0|                  0|                  0|                  0|                  0|                  0|                  0|                  0|                  0|                  0|                  0|                  0|                  0|                  0|                  0|                  0|                  0|                  0|                  0|                  0|                  0|                  0|                  0|                  0|                  0|                  0|                  0|                  0|                  0|                  0|                  0|                  0|                  0|                  0|                  0|                  0|                  0|                  0|                  0|                  0|                  0|                  0|                  0|                  0|                  0|                  0|                  1|                  1|                  5|                  5|                  6|                 18|                 47|                 98|                192|                359|\n",
            "|       Iraq|                  0|                  0|                  0|                  0|                  0|                  0|                  0|                  0|                  0|                  0|                  0|                  0|                  0|                  0|                  0|                  0|                  0|                  0|                  0|                  0|                  0|                  0|                  0|                  0|                  0|                  0|                  0|                  0|                  0|                  0|                  0|                  0|                  0|                  1|                  1|                  5|                  7|                  7|                 13|                 19|                 26|                 32|                 35|                 35|                 40|                 54|                 60|                 60|                 71|                 71|                 71|                101|                110|                116|                124|                154|                164|                192|                208|\n",
            "|    Germany|                  0|                  0|                  0|                  0|                  0|                  1|                  4|                  4|                  4|                  5|                  8|                 10|                 12|                 12|                 12|                 12|                 13|                 13|                 14|                 14|                 16|                 16|                 16|                 16|                 16|                 16|                 16|                 16|                 16|                 16|                 16|                 16|                 16|                 16|                 17|                 27|                 46|                 48|                 79|                130|                159|                196|                262|                482|                670|                799|               1040|               1176|               1457|               1908|               2078|               3675|               4585|               5795|               7272|               9257|              12327|              15320|              19848|\n",
            "|   Cambodia|                  0|                  0|                  0|                  0|                  0|                  1|                  1|                  1|                  1|                  1|                  1|                  1|                  1|                  1|                  1|                  1|                  1|                  1|                  1|                  1|                  1|                  1|                  1|                  1|                  1|                  1|                  1|                  1|                  1|                  1|                  1|                  1|                  1|                  1|                  1|                  1|                  1|                  1|                  1|                  1|                  1|                  1|                  1|                  1|                  1|                  1|                  2|                  2|                  2|                  3|                  3|                  5|                  7|                  7|                  7|                 33|                 35|                 37|                 51|\n",
            "|Afghanistan|                  0|                  0|                  0|                  0|                  0|                  0|                  0|                  0|                  0|                  0|                  0|                  0|                  0|                  0|                  0|                  0|                  0|                  0|                  0|                  0|                  0|                  0|                  0|                  0|                  0|                  0|                  0|                  0|                  0|                  0|                  0|                  0|                  0|                  1|                  1|                  1|                  1|                  1|                  1|                  1|                  1|                  1|                  1|                  1|                  1|                  1|                  4|                  4|                  5|                  7|                  7|                  7|                 11|                 16|                 21|                 22|                 22|                 22|                 24|\n",
            "|     Jordan|                  0|                  0|                  0|                  0|                  0|                  0|                  0|                  0|                  0|                  0|                  0|                  0|                  0|                  0|                  0|                  0|                  0|                  0|                  0|                  0|                  0|                  0|                  0|                  0|                  0|                  0|                  0|                  0|                  0|                  0|                  0|                  0|                  0|                  0|                  0|                  0|                  0|                  0|                  0|                  0|                  0|                  1|                  1|                  1|                  1|                  1|                  1|                  1|                  1|                  1|                  1|                  1|                  1|                  8|                 17|                 34|                 52|                 69|                 85|\n",
            "|     Rwanda|                  0|                  0|                  0|                  0|                  0|                  0|                  0|                  0|                  0|                  0|                  0|                  0|                  0|                  0|                  0|                  0|                  0|                  0|                  0|                  0|                  0|                  0|                  0|                  0|                  0|                  0|                  0|                  0|                  0|                  0|                  0|                  0|                  0|                  0|                  0|                  0|                  0|                  0|                  0|                  0|                  0|                  0|                  0|                  0|                  0|                  0|                  0|                  0|                  0|                  0|                  0|                  0|                  1|                  1|                  5|                  7|                  8|                  8|                 17|\n",
            "|   Maldives|                  0|                  0|                  0|                  0|                  0|                  0|                  0|                  0|                  0|                  0|                  0|                  0|                  0|                  0|                  0|                  0|                  0|                  0|                  0|                  0|                  0|                  0|                  0|                  0|                  0|                  0|                  0|                  0|                  0|                  0|                  0|                  0|                  0|                  0|                  0|                  0|                  0|                  0|                  0|                  0|                  0|                  0|                  0|                  0|                  0|                  0|                  4|                  4|                  6|                  8|                  8|                  9|                 10|                 13|                 13|                 13|                 13|                 13|                 13|\n",
            "+-----------+-------------------+-------------------+-------------------+-------------------+-------------------+-------------------+-------------------+-------------------+-------------------+-------------------+-------------------+-------------------+-------------------+-------------------+-------------------+-------------------+-------------------+-------------------+-------------------+-------------------+-------------------+-------------------+-------------------+-------------------+-------------------+-------------------+-------------------+-------------------+-------------------+-------------------+-------------------+-------------------+-------------------+-------------------+-------------------+-------------------+-------------------+-------------------+-------------------+-------------------+-------------------+-------------------+-------------------+-------------------+-------------------+-------------------+-------------------+-------------------+-------------------+-------------------+-------------------+-------------------+-------------------+-------------------+-------------------+-------------------+-------------------+-------------------+-------------------+\n",
            "only showing top 20 rows\n",
            "\n"
          ],
          "name": "stdout"
        }
      ]
    },
    {
      "cell_type": "code",
      "metadata": {
        "id": "ubnTQPebcpuQ",
        "colab_type": "code",
        "colab": {
          "base_uri": "https://localhost:8080/",
          "height": 479
        },
        "outputId": "1c2c7727-942c-458f-fd1a-b64b69eb5981"
      },
      "source": [
        "# Use less here to use cross tab \n",
        "corona_df.filter(\"Country == 'US'\").crosstab(\"State\", \"Date\").show()"
      ],
      "execution_count": 82,
      "outputs": [
        {
          "output_type": "stream",
          "text": [
            "+-------------------+---------------------+---------------------+---------------------+---------------------+---------------------+---------------------+---------------------+---------------------+---------------------+---------------------+---------------------+---------------------+---------------------+---------------------+---------------------+---------------------+---------------------+---------------------+---------------------+---------------------+---------------------+---------------------+---------------------+---------------------+---------------------+---------------------+---------------------+---------------------+---------------------+---------------------+---------------------+---------------------+---------------------+---------------------+---------------------+---------------------+---------------------+---------------------+---------------------+---------------------+---------------------+---------------------+---------------------+---------------------+---------------------+---------------------+---------------------+---------------------+---------------------+---------------------+---------------------+---------------------+---------------------+---------------------+---------------------+---------------------+---------------------+---------------------+---------------------+\n",
            "|         State_Date|2020-01-22 00:00:00.0|2020-01-23 00:00:00.0|2020-01-24 00:00:00.0|2020-01-25 00:00:00.0|2020-01-26 00:00:00.0|2020-01-27 00:00:00.0|2020-01-28 00:00:00.0|2020-01-29 00:00:00.0|2020-01-30 00:00:00.0|2020-01-31 00:00:00.0|2020-02-01 00:00:00.0|2020-02-02 00:00:00.0|2020-02-03 00:00:00.0|2020-02-04 00:00:00.0|2020-02-05 00:00:00.0|2020-02-06 00:00:00.0|2020-02-07 00:00:00.0|2020-02-08 00:00:00.0|2020-02-09 00:00:00.0|2020-02-10 00:00:00.0|2020-02-11 00:00:00.0|2020-02-12 00:00:00.0|2020-02-13 00:00:00.0|2020-02-14 00:00:00.0|2020-02-15 00:00:00.0|2020-02-16 00:00:00.0|2020-02-17 00:00:00.0|2020-02-18 00:00:00.0|2020-02-19 00:00:00.0|2020-02-20 00:00:00.0|2020-02-21 00:00:00.0|2020-02-22 00:00:00.0|2020-02-23 00:00:00.0|2020-02-24 00:00:00.0|2020-02-25 00:00:00.0|2020-02-26 00:00:00.0|2020-02-27 00:00:00.0|2020-02-28 00:00:00.0|2020-02-29 00:00:00.0|2020-03-01 00:00:00.0|2020-03-02 00:00:00.0|2020-03-03 00:00:00.0|2020-03-04 00:00:00.0|2020-03-05 00:00:00.0|2020-03-06 00:00:00.0|2020-03-07 00:00:00.0|2020-03-08 00:00:00.0|2020-03-09 00:00:00.0|2020-03-10 00:00:00.0|2020-03-11 00:00:00.0|2020-03-12 00:00:00.0|2020-03-13 00:00:00.0|2020-03-14 00:00:00.0|2020-03-15 00:00:00.0|2020-03-16 00:00:00.0|2020-03-17 00:00:00.0|2020-03-18 00:00:00.0|2020-03-19 00:00:00.0|2020-03-20 00:00:00.0|\n",
            "+-------------------+---------------------+---------------------+---------------------+---------------------+---------------------+---------------------+---------------------+---------------------+---------------------+---------------------+---------------------+---------------------+---------------------+---------------------+---------------------+---------------------+---------------------+---------------------+---------------------+---------------------+---------------------+---------------------+---------------------+---------------------+---------------------+---------------------+---------------------+---------------------+---------------------+---------------------+---------------------+---------------------+---------------------+---------------------+---------------------+---------------------+---------------------+---------------------+---------------------+---------------------+---------------------+---------------------+---------------------+---------------------+---------------------+---------------------+---------------------+---------------------+---------------------+---------------------+---------------------+---------------------+---------------------+---------------------+---------------------+---------------------+---------------------+---------------------+---------------------+\n",
            "|         New Mexico|                    1|                    1|                    1|                    1|                    1|                    1|                    1|                    1|                    1|                    1|                    1|                    1|                    1|                    1|                    1|                    1|                    1|                    1|                    1|                    1|                    1|                    1|                    1|                    1|                    1|                    1|                    1|                    1|                    1|                    1|                    1|                    1|                    1|                    1|                    1|                    1|                    1|                    1|                    1|                    1|                    1|                    1|                    1|                    1|                    1|                    1|                    1|                    1|                    1|                    1|                    1|                    1|                    1|                    1|                    1|                    1|                    1|                    1|                    1|\n",
            "|   Clark County, NV|                    1|                    1|                    1|                    1|                    1|                    1|                    1|                    1|                    1|                    1|                    1|                    1|                    1|                    1|                    1|                    1|                    1|                    1|                    1|                    1|                    1|                    1|                    1|                    1|                    1|                    1|                    1|                    1|                    1|                    1|                    1|                    1|                    1|                    1|                    1|                    1|                    1|                    1|                    1|                    1|                    1|                    1|                    1|                    1|                    1|                    1|                    1|                    1|                    1|                    1|                    1|                    1|                    1|                    1|                    1|                    1|                    1|                    1|                    1|\n",
            "|         Summit, UT|                    1|                    1|                    1|                    1|                    1|                    1|                    1|                    1|                    1|                    1|                    1|                    1|                    1|                    1|                    1|                    1|                    1|                    1|                    1|                    1|                    1|                    1|                    1|                    1|                    1|                    1|                    1|                    1|                    1|                    1|                    1|                    1|                    1|                    1|                    1|                    1|                    1|                    1|                    1|                    1|                    1|                    1|                    1|                    1|                    1|                    1|                    1|                    1|                    1|                    1|                    1|                    1|                    1|                    1|                    1|                    1|                    1|                    1|                    1|\n",
            "|     Montgomery, TX|                    1|                    1|                    1|                    1|                    1|                    1|                    1|                    1|                    1|                    1|                    1|                    1|                    1|                    1|                    1|                    1|                    1|                    1|                    1|                    1|                    1|                    1|                    1|                    1|                    1|                    1|                    1|                    1|                    1|                    1|                    1|                    1|                    1|                    1|                    1|                    1|                    1|                    1|                    1|                    1|                    1|                    1|                    1|                    1|                    1|                    1|                    1|                    1|                    1|                    1|                    1|                    1|                    1|                    1|                    1|                    1|                    1|                    1|                    1|\n",
            "|           Dane, WI|                    1|                    1|                    1|                    1|                    1|                    1|                    1|                    1|                    1|                    1|                    1|                    1|                    1|                    1|                    1|                    1|                    1|                    1|                    1|                    1|                    1|                    1|                    1|                    1|                    1|                    1|                    1|                    1|                    1|                    1|                    1|                    1|                    1|                    1|                    1|                    1|                    1|                    1|                    1|                    1|                    1|                    1|                    1|                    1|                    1|                    1|                    1|                    1|                    1|                    1|                    1|                    1|                    1|                    1|                    1|                    1|                    1|                    1|                    1|\n",
            "|Prince George's, MD|                    1|                    1|                    1|                    1|                    1|                    1|                    1|                    1|                    1|                    1|                    1|                    1|                    1|                    1|                    1|                    1|                    1|                    1|                    1|                    1|                    1|                    1|                    1|                    1|                    1|                    1|                    1|                    1|                    1|                    1|                    1|                    1|                    1|                    1|                    1|                    1|                    1|                    1|                    1|                    1|                    1|                    1|                    1|                    1|                    1|                    1|                    1|                    1|                    1|                    1|                    1|                    1|                    1|                    1|                    1|                    1|                    1|                    1|                    1|\n",
            "|Maricopa County, AZ|                    1|                    1|                    1|                    1|                    1|                    1|                    1|                    1|                    1|                    1|                    1|                    1|                    1|                    1|                    1|                    1|                    1|                    1|                    1|                    1|                    1|                    1|                    1|                    1|                    1|                    1|                    1|                    1|                    1|                    1|                    1|                    1|                    1|                    1|                    1|                    1|                    1|                    1|                    1|                    1|                    1|                    1|                    1|                    1|                    1|                    1|                    1|                    1|                    1|                    1|                    1|                    1|                    1|                    1|                    1|                    1|                    1|                    1|                    1|\n",
            "|  Harris County, TX|                    1|                    1|                    1|                    1|                    1|                    1|                    1|                    1|                    1|                    1|                    1|                    1|                    1|                    1|                    1|                    1|                    1|                    1|                    1|                    1|                    1|                    1|                    1|                    1|                    1|                    1|                    1|                    1|                    1|                    1|                    1|                    1|                    1|                    1|                    1|                    1|                    1|                    1|                    1|                    1|                    1|                    1|                    1|                    1|                    1|                    1|                    1|                    1|                    1|                    1|                    1|                    1|                    1|                    1|                    1|                    1|                    1|                    1|                    1|\n",
            "|     New Castle, DE|                    1|                    1|                    1|                    1|                    1|                    1|                    1|                    1|                    1|                    1|                    1|                    1|                    1|                    1|                    1|                    1|                    1|                    1|                    1|                    1|                    1|                    1|                    1|                    1|                    1|                    1|                    1|                    1|                    1|                    1|                    1|                    1|                    1|                    1|                    1|                    1|                    1|                    1|                    1|                    1|                    1|                    1|                    1|                    1|                    1|                    1|                    1|                    1|                    1|                    1|                    1|                    1|                    1|                    1|                    1|                    1|                    1|                    1|                    1|\n",
            "|      Deschutes, OR|                    1|                    1|                    1|                    1|                    1|                    1|                    1|                    1|                    1|                    1|                    1|                    1|                    1|                    1|                    1|                    1|                    1|                    1|                    1|                    1|                    1|                    1|                    1|                    1|                    1|                    1|                    1|                    1|                    1|                    1|                    1|                    1|                    1|                    1|                    1|                    1|                    1|                    1|                    1|                    1|                    1|                    1|                    1|                    1|                    1|                    1|                    1|                    1|                    1|                    1|                    1|                    1|                    1|                    1|                    1|                    1|                    1|                    1|                    1|\n",
            "|        Connecticut|                    1|                    1|                    1|                    1|                    1|                    1|                    1|                    1|                    1|                    1|                    1|                    1|                    1|                    1|                    1|                    1|                    1|                    1|                    1|                    1|                    1|                    1|                    1|                    1|                    1|                    1|                    1|                    1|                    1|                    1|                    1|                    1|                    1|                    1|                    1|                    1|                    1|                    1|                    1|                    1|                    1|                    1|                    1|                    1|                    1|                    1|                    1|                    1|                    1|                    1|                    1|                    1|                    1|                    1|                    1|                    1|                    1|                    1|                    1|\n",
            "|          Gregg, TX|                    1|                    1|                    1|                    1|                    1|                    1|                    1|                    1|                    1|                    1|                    1|                    1|                    1|                    1|                    1|                    1|                    1|                    1|                    1|                    1|                    1|                    1|                    1|                    1|                    1|                    1|                    1|                    1|                    1|                    1|                    1|                    1|                    1|                    1|                    1|                    1|                    1|                    1|                    1|                    1|                    1|                    1|                    1|                    1|                    1|                    1|                    1|                    1|                    1|                    1|                    1|                    1|                    1|                    1|                    1|                    1|                    1|                    1|                    1|\n",
            "|    Wake County, NC|                    1|                    1|                    1|                    1|                    1|                    1|                    1|                    1|                    1|                    1|                    1|                    1|                    1|                    1|                    1|                    1|                    1|                    1|                    1|                    1|                    1|                    1|                    1|                    1|                    1|                    1|                    1|                    1|                    1|                    1|                    1|                    1|                    1|                    1|                    1|                    1|                    1|                    1|                    1|                    1|                    1|                    1|                    1|                    1|                    1|                    1|                    1|                    1|                    1|                    1|                    1|                    1|                    1|                    1|                    1|                    1|                    1|                    1|                    1|\n",
            "|          Boone, IN|                    1|                    1|                    1|                    1|                    1|                    1|                    1|                    1|                    1|                    1|                    1|                    1|                    1|                    1|                    1|                    1|                    1|                    1|                    1|                    1|                    1|                    1|                    1|                    1|                    1|                    1|                    1|                    1|                    1|                    1|                    1|                    1|                    1|                    1|                    1|                    1|                    1|                    1|                    1|                    1|                    1|                    1|                    1|                    1|                    1|                    1|                    1|                    1|                    1|                    1|                    1|                    1|                    1|                    1|                    1|                    1|                    1|                    1|                    1|\n",
            "|         Beadle, SD|                    1|                    1|                    1|                    1|                    1|                    1|                    1|                    1|                    1|                    1|                    1|                    1|                    1|                    1|                    1|                    1|                    1|                    1|                    1|                    1|                    1|                    1|                    1|                    1|                    1|                    1|                    1|                    1|                    1|                    1|                    1|                    1|                    1|                    1|                    1|                    1|                    1|                    1|                    1|                    1|                    1|                    1|                    1|                    1|                    1|                    1|                    1|                    1|                    1|                    1|                    1|                    1|                    1|                    1|                    1|                    1|                    1|                    1|                    1|\n",
            "| Johnson County, IA|                    1|                    1|                    1|                    1|                    1|                    1|                    1|                    1|                    1|                    1|                    1|                    1|                    1|                    1|                    1|                    1|                    1|                    1|                    1|                    1|                    1|                    1|                    1|                    1|                    1|                    1|                    1|                    1|                    1|                    1|                    1|                    1|                    1|                    1|                    1|                    1|                    1|                    1|                    1|                    1|                    1|                    1|                    1|                    1|                    1|                    1|                    1|                    1|                    1|                    1|                    1|                    1|                    1|                    1|                    1|                    1|                    1|                    1|                    1|\n",
            "|   Tulsa County, OK|                    1|                    1|                    1|                    1|                    1|                    1|                    1|                    1|                    1|                    1|                    1|                    1|                    1|                    1|                    1|                    1|                    1|                    1|                    1|                    1|                    1|                    1|                    1|                    1|                    1|                    1|                    1|                    1|                    1|                    1|                    1|                    1|                    1|                    1|                    1|                    1|                    1|                    1|                    1|                    1|                    1|                    1|                    1|                    1|                    1|                    1|                    1|                    1|                    1|                    1|                    1|                    1|                    1|                    1|                    1|                    1|                    1|                    1|                    1|\n",
            "|         California|                    1|                    1|                    1|                    1|                    1|                    1|                    1|                    1|                    1|                    1|                    1|                    1|                    1|                    1|                    1|                    1|                    1|                    1|                    1|                    1|                    1|                    1|                    1|                    1|                    1|                    1|                    1|                    1|                    1|                    1|                    1|                    1|                    1|                    1|                    1|                    1|                    1|                    1|                    1|                    1|                    1|                    1|                    1|                    1|                    1|                    1|                    1|                    1|                    1|                    1|                    1|                    1|                    1|                    1|                    1|                    1|                    1|                    1|                    1|\n",
            "|  Collin County, TX|                    1|                    1|                    1|                    1|                    1|                    1|                    1|                    1|                    1|                    1|                    1|                    1|                    1|                    1|                    1|                    1|                    1|                    1|                    1|                    1|                    1|                    1|                    1|                    1|                    1|                    1|                    1|                    1|                    1|                    1|                    1|                    1|                    1|                    1|                    1|                    1|                    1|                    1|                    1|                    1|                    1|                    1|                    1|                    1|                    1|                    1|                    1|                    1|                    1|                    1|                    1|                    1|                    1|                    1|                    1|                    1|                    1|                    1|                    1|\n",
            "|       Charlton, GA|                    1|                    1|                    1|                    1|                    1|                    1|                    1|                    1|                    1|                    1|                    1|                    1|                    1|                    1|                    1|                    1|                    1|                    1|                    1|                    1|                    1|                    1|                    1|                    1|                    1|                    1|                    1|                    1|                    1|                    1|                    1|                    1|                    1|                    1|                    1|                    1|                    1|                    1|                    1|                    1|                    1|                    1|                    1|                    1|                    1|                    1|                    1|                    1|                    1|                    1|                    1|                    1|                    1|                    1|                    1|                    1|                    1|                    1|                    1|\n",
            "+-------------------+---------------------+---------------------+---------------------+---------------------+---------------------+---------------------+---------------------+---------------------+---------------------+---------------------+---------------------+---------------------+---------------------+---------------------+---------------------+---------------------+---------------------+---------------------+---------------------+---------------------+---------------------+---------------------+---------------------+---------------------+---------------------+---------------------+---------------------+---------------------+---------------------+---------------------+---------------------+---------------------+---------------------+---------------------+---------------------+---------------------+---------------------+---------------------+---------------------+---------------------+---------------------+---------------------+---------------------+---------------------+---------------------+---------------------+---------------------+---------------------+---------------------+---------------------+---------------------+---------------------+---------------------+---------------------+---------------------+---------------------+---------------------+---------------------+---------------------+\n",
            "only showing top 20 rows\n",
            "\n"
          ],
          "name": "stdout"
        }
      ]
    },
    {
      "cell_type": "code",
      "metadata": {
        "id": "sWTBBPV5cXW0",
        "colab_type": "code",
        "colab": {
          "base_uri": "https://localhost:8080/",
          "height": 459
        },
        "outputId": "84ef86a1-6b2e-4453-da43-15fe688b2282"
      },
      "source": [
        "# Using the max tab \n",
        "# lets see the confirmed cases for the latest \n",
        "corona_max_df.groupBy(\"Country\").agg({'Confirmed': 'sum'}).show()"
      ],
      "execution_count": 85,
      "outputs": [
        {
          "output_type": "stream",
          "text": [
            "+-----------+--------------+\n",
            "|    Country|sum(Confirmed)|\n",
            "+-----------+--------------+\n",
            "|       Chad|             1|\n",
            "|     Russia|           253|\n",
            "|   Paraguay|            13|\n",
            "|    Senegal|            38|\n",
            "|     Sweden|          1639|\n",
            "| Cabo Verde|             1|\n",
            "|     Guyana|             7|\n",
            "|Philippines|           230|\n",
            "|   Djibouti|             1|\n",
            "|   Malaysia|          1030|\n",
            "|  Singapore|           385|\n",
            "|       Fiji|             1|\n",
            "|     Turkey|           359|\n",
            "|       Iraq|           208|\n",
            "|    Germany|         19848|\n",
            "|   Cambodia|            51|\n",
            "|Afghanistan|            24|\n",
            "|     Jordan|            85|\n",
            "|     Rwanda|            17|\n",
            "|   Maldives|            13|\n",
            "+-----------+--------------+\n",
            "only showing top 20 rows\n",
            "\n"
          ],
          "name": "stdout"
        }
      ]
    },
    {
      "cell_type": "code",
      "metadata": {
        "id": "nGEtQYVZdTJI",
        "colab_type": "code",
        "colab": {
          "base_uri": "https://localhost:8080/",
          "height": 459
        },
        "outputId": "07e49d6c-d967-49d3-c94c-fbe9abf2a272"
      },
      "source": [
        "corona_max_df.groupBy(\"Country\").agg({'Confirmed': 'sum', 'Recovered': 'sum','Death':'sum'}).orderBy(\"sum(Confirmed)\", ascending = False).show()\n",
        "# Adding multiple cases \n",
        "# ordering by confirmed cases \n"
      ],
      "execution_count": 87,
      "outputs": [
        {
          "output_type": "stream",
          "text": [
            "+--------------+--------------+----------+--------------+\n",
            "|       Country|sum(Recovered)|sum(Death)|sum(Confirmed)|\n",
            "+--------------+--------------+----------+--------------+\n",
            "|         China|         71266|      3253|         81250|\n",
            "|         Italy|          4440|      4032|         47021|\n",
            "|         Spain|          1588|      1043|         20410|\n",
            "|       Germany|           180|        67|         19848|\n",
            "|          Iran|          6745|      1433|         19644|\n",
            "|            US|             0|       244|         19100|\n",
            "|        France|            12|       450|         12726|\n",
            "|  Korea, South|          1540|        94|          8652|\n",
            "|   Switzerland|            15|        54|          5294|\n",
            "|United Kingdom|            67|       178|          4014|\n",
            "|   Netherlands|             2|       107|          3003|\n",
            "|       Austria|             9|         6|          2388|\n",
            "|       Belgium|             1|        37|          2257|\n",
            "|        Norway|             1|         7|          1914|\n",
            "|        Sweden|            16|        16|          1639|\n",
            "|       Denmark|             1|         9|          1337|\n",
            "|      Malaysia|            87|         3|          1030|\n",
            "|      Portugal|             5|         6|          1020|\n",
            "|         Japan|           191|        33|           963|\n",
            "|        Canada|             9|        12|           943|\n",
            "+--------------+--------------+----------+--------------+\n",
            "only showing top 20 rows\n",
            "\n"
          ],
          "name": "stdout"
        }
      ]
    },
    {
      "cell_type": "code",
      "metadata": {
        "id": "PVKMERcvfCYG",
        "colab_type": "code",
        "colab": {
          "base_uri": "https://localhost:8080/",
          "height": 459
        },
        "outputId": "c1cf8033-7251-43ab-ce05-7347faeb1953"
      },
      "source": [
        "# We can filter the main dataframe on one country as well. \n",
        "corona_df.filter(\"Country == 'Italy'\").sort(\"Date\", ascending = False).show()"
      ],
      "execution_count": 88,
      "outputs": [
        {
          "output_type": "stream",
          "text": [
            "+-----+-----+-------+----+----+-------------------+---------+-----+---------+-------------+----+\n",
            "|  _c0|State|Country| Lat|Long|               Date|Confirmed|Death|Recovered|state_cleaned|City|\n",
            "+-----+-----+-------+----+----+-------------------+---------+-----+---------+-------------+----+\n",
            "|27682| null|  Italy|43.0|12.0|2020-03-20 00:00:00|    47021| 4032|     4440|         Rome|null|\n",
            "|27205| null|  Italy|43.0|12.0|2020-03-19 00:00:00|    41035| 3405|     4440|         Rome|null|\n",
            "|26728| null|  Italy|43.0|12.0|2020-03-18 00:00:00|    35713| 2978|     4025|         Rome|null|\n",
            "|26251| null|  Italy|43.0|12.0|2020-03-17 00:00:00|    31506| 2503|     2941|         Rome|null|\n",
            "|25774| null|  Italy|43.0|12.0|2020-03-16 00:00:00|    27980| 2158|     2749|         Rome|null|\n",
            "|25297| null|  Italy|43.0|12.0|2020-03-15 00:00:00|    24747| 1809|     2335|         Rome|null|\n",
            "|24820| null|  Italy|43.0|12.0|2020-03-14 00:00:00|    21157| 1441|     1966|         Rome|null|\n",
            "|24343| null|  Italy|43.0|12.0|2020-03-13 00:00:00|    17660| 1266|     1439|         Rome|null|\n",
            "|23866| null|  Italy|43.0|12.0|2020-03-12 00:00:00|    12462|  827|     1045|         Rome|null|\n",
            "|23389| null|  Italy|43.0|12.0|2020-03-11 00:00:00|    12462|  827|     1045|         Rome|null|\n",
            "|22912| null|  Italy|43.0|12.0|2020-03-10 00:00:00|    10149|  631|      724|         Rome|null|\n",
            "|22435| null|  Italy|43.0|12.0|2020-03-09 00:00:00|     9172|  463|      724|         Rome|null|\n",
            "|21958| null|  Italy|43.0|12.0|2020-03-08 00:00:00|     7375|  366|      622|         Rome|null|\n",
            "|21481| null|  Italy|43.0|12.0|2020-03-07 00:00:00|     5883|  233|      589|         Rome|null|\n",
            "|21004| null|  Italy|43.0|12.0|2020-03-06 00:00:00|     4636|  197|      523|         Rome|null|\n",
            "|20527| null|  Italy|43.0|12.0|2020-03-05 00:00:00|     3858|  148|      414|         Rome|null|\n",
            "|20050| null|  Italy|43.0|12.0|2020-03-04 00:00:00|     3089|  107|      276|         Rome|null|\n",
            "|19573| null|  Italy|43.0|12.0|2020-03-03 00:00:00|     2502|   79|      160|         Rome|null|\n",
            "|19096| null|  Italy|43.0|12.0|2020-03-02 00:00:00|     2036|   52|      149|         Rome|null|\n",
            "|18619| null|  Italy|43.0|12.0|2020-03-01 00:00:00|     1694|   34|       83|         Rome|null|\n",
            "+-----+-----+-------+----+----+-------------------+---------+-----+---------+-------------+----+\n",
            "only showing top 20 rows\n",
            "\n"
          ],
          "name": "stdout"
        }
      ]
    },
    {
      "cell_type": "code",
      "metadata": {
        "id": "oiR5aedifVfY",
        "colab_type": "code",
        "colab": {}
      },
      "source": [
        "# using withColumns as Active \n",
        "corona_max_df = corona_max_df.withColumn(\"Active\", corona_max_df.Confirmed - corona_max_df.Recovered - corona_max_df.Death).sort(\"Active\", ascending = False)"
      ],
      "execution_count": 0,
      "outputs": []
    },
    {
      "cell_type": "code",
      "metadata": {
        "id": "u63KXv2Cgqxo",
        "colab_type": "code",
        "colab": {
          "base_uri": "https://localhost:8080/",
          "height": 459
        },
        "outputId": "2ad3e583-ee25-4d73-9ea3-5ff18653e371"
      },
      "source": [
        "corona_max_df.show()"
      ],
      "execution_count": 106,
      "outputs": [
        {
          "output_type": "stream",
          "text": [
            "+--------------+----------------+-------------------+-----+--------------+-------+-------------------+---------+-----+---------+----------+------+\n",
            "|       Country|   state_cleaned|               Date|  _c0|         State|    Lat|               Long|Confirmed|Death|Recovered|      City|Active|\n",
            "+--------------+----------------+-------------------+-----+--------------+-------+-------------------+---------+-----+---------+----------+------+\n",
            "|         Italy|            Rome|2020-03-20 00:00:00|27682|          null|   43.0|               12.0|    47021| 4032|     4440|      null| 38549|\n",
            "|       Germany|          Berlin|2020-03-20 00:00:00|27677|          null|   51.0|                9.0|    19848|   67|      180|      null| 19601|\n",
            "|         Spain|          Toledo|2020-03-20 00:00:00|27684|          null|   40.0|               -4.0|    20410| 1043|     1588|      null| 17779|\n",
            "|        France|          France|2020-03-20 00:00:00|27823|        France|46.2276|             2.2137|    12612|  450|       12|      null| 12150|\n",
            "|          Iran|          Tehran|2020-03-20 00:00:00|27821|          null|   32.0|               53.0|    19644| 1433|     6745|      null| 11466|\n",
            "|            US|        New York|2020-03-20 00:00:00|27765|      New York|42.1657|           -74.9481|     8310|   42|        0|  New York|  8268|\n",
            "|  Korea, South|Gyeongsangbuk-do|2020-03-20 00:00:00|27822|          null|   36.0|              128.0|     8652|   94|     1540|      null|  7018|\n",
            "|         China|           Hubei|2020-03-20 00:00:00|27820|         Hubei|30.9756|           112.2707|    67800| 3133|    58382|      null|  6285|\n",
            "|   Switzerland|            Bern|2020-03-20 00:00:00|27697|          null|46.8182|             8.2275|     5294|   54|       15|      null|  5225|\n",
            "|United Kingdom|  United Kingdom|2020-03-20 00:00:00|28069|United Kingdom|55.3781|-3.4360000000000004|     3983|  177|       65|      null|  3741|\n",
            "|   Netherlands|     Netherlands|2020-03-20 00:00:00|28106|   Netherlands|52.1326|             5.2913|     2994|  106|        2|      null|  2886|\n",
            "|       Austria|          Vienna|2020-03-20 00:00:00|27698|          null|47.5162|            14.5501|     2388|    6|        9|      null|  2373|\n",
            "|       Belgium|        Brussels|2020-03-20 00:00:00|27686|          null|50.8333|                4.0|     2257|   37|        1|      null|  2219|\n",
            "|        Norway|             Hol|2020-03-20 00:00:00|27705|          null| 60.472|             8.4689|     1914|    7|        1|      null|  1906|\n",
            "|        Sweden|       Stockholm|2020-03-20 00:00:00|27683|          null|   63.0|               16.0|     1639|   16|       16|      null|  1607|\n",
            "|            US|      Washington|2020-03-20 00:00:00|27764|    Washington|47.4009|          -121.4905|     1524|   83|        0|Washington|  1441|\n",
            "|       Denmark|         Denmark|2020-03-20 00:00:00|27836|       Denmark|56.2639|             9.5018|     1255|    9|        1|      null|  1245|\n",
            "|            US|      California|2020-03-20 00:00:00|27766|    California|36.1162|          -119.6816|     1177|   23|        0|California|  1154|\n",
            "|      Portugal|          Lisbon|2020-03-20 00:00:00|27725|          null|39.3999|            -8.2245|     1020|    6|        5|      null|  1009|\n",
            "|      Malaysia|         Sarawak|2020-03-20 00:00:00|27670|          null|    2.5|              112.5|     1030|    3|       87|      null|   940|\n",
            "+--------------+----------------+-------------------+-----+--------------+-------+-------------------+---------+-----+---------+----------+------+\n",
            "only showing top 20 rows\n",
            "\n"
          ],
          "name": "stdout"
        }
      ]
    },
    {
      "cell_type": "code",
      "metadata": {
        "id": "klF-G-ROgDt-",
        "colab_type": "code",
        "colab": {
          "base_uri": "https://localhost:8080/",
          "height": 459
        },
        "outputId": "c79dfa16-d215-4496-e396-443b26d8a188"
      },
      "source": [
        "corona_max_df.groupBy(\"Country\").sum(\"Active\").orderBy(\"sum(Active)\", ascending = False).show()"
      ],
      "execution_count": 107,
      "outputs": [
        {
          "output_type": "stream",
          "text": [
            "+--------------+-----------+\n",
            "|       Country|sum(Active)|\n",
            "+--------------+-----------+\n",
            "|         Italy|      38549|\n",
            "|       Germany|      19601|\n",
            "|            US|      18856|\n",
            "|         Spain|      17779|\n",
            "|        France|      12264|\n",
            "|          Iran|      11466|\n",
            "|  Korea, South|       7018|\n",
            "|         China|       6731|\n",
            "|   Switzerland|       5225|\n",
            "|United Kingdom|       3769|\n",
            "|   Netherlands|       2894|\n",
            "|       Austria|       2373|\n",
            "|       Belgium|       2219|\n",
            "|        Norway|       1906|\n",
            "|        Sweden|       1607|\n",
            "|       Denmark|       1327|\n",
            "|      Portugal|       1009|\n",
            "|      Malaysia|        940|\n",
            "|        Canada|        922|\n",
            "|       Czechia|        829|\n",
            "+--------------+-----------+\n",
            "only showing top 20 rows\n",
            "\n"
          ],
          "name": "stdout"
        }
      ]
    }
  ]
}